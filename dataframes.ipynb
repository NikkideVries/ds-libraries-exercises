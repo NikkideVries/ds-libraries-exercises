{
 "cells": [
  {
   "cell_type": "code",
   "execution_count": 2,
   "id": "163c313a-a177-4100-8187-3d5f3500cca8",
   "metadata": {
    "tags": []
   },
   "outputs": [],
   "source": [
    "import pandas as pd"
   ]
  },
  {
   "cell_type": "code",
   "execution_count": 5,
   "id": "7694d20e-4b47-4bc1-8e90-df05d82c80c0",
   "metadata": {
    "tags": []
   },
   "outputs": [],
   "source": [
    "from pydataset import data"
   ]
  },
  {
   "cell_type": "markdown",
   "id": "867127c2-59aa-404d-9d4b-7d3ab645fe32",
   "metadata": {},
   "source": [
    "### Question 1: Copey the code from the lession from the pydataset library will be pandas dataframes."
   ]
  },
  {
   "cell_type": "code",
   "execution_count": 6,
   "id": "2b68cae8-7ee3-486e-9faa-f5adfdd90942",
   "metadata": {
    "tags": []
   },
   "outputs": [],
   "source": [
    "# a. Create a column named passing_english that indicates whether each student has a passing grade in english."
   ]
  },
  {
   "cell_type": "code",
   "execution_count": 9,
   "id": "7c94c889-608a-4f18-8564-6f199ba4b5ce",
   "metadata": {
    "tags": []
   },
   "outputs": [
    {
     "data": {
      "text/plain": [
       "pandas.core.frame.DataFrame"
      ]
     },
     "execution_count": 9,
     "metadata": {},
     "output_type": "execute_result"
    }
   ],
   "source": [
    "import pandas as pd\n",
    "import numpy as np\n",
    "\n",
    "np.random.seed(123)\n",
    "\n",
    "students = ['Sally', 'Jane', 'Suzie', 'Billy', 'Ada', 'John', 'Thomas',\n",
    "            'Marie', 'Albert', 'Richard', 'Isaac', 'Alan']\n",
    "\n",
    "# randomly generate scores for each student for each subject\n",
    "# note that all the values need to have the same length here\n",
    "math_grades = np.random.randint(low=60, high=100, size=len(students))\n",
    "english_grades = np.random.randint(low=60, high=100, size=len(students))\n",
    "reading_grades = np.random.randint(low=60, high=100, size=len(students))\n",
    "\n",
    "df = pd.DataFrame({'name': students,\n",
    "                   'math': math_grades,\n",
    "                   'english': english_grades,\n",
    "                   'reading': reading_grades})\n",
    "\n",
    "type(df)\n"
   ]
  },
  {
   "cell_type": "code",
   "execution_count": 10,
   "id": "32d51744-3593-4e42-80c4-be3928729a5c",
   "metadata": {
    "tags": []
   },
   "outputs": [
    {
     "name": "stdout",
     "output_type": "stream",
     "text": [
      "       name  math  english  reading\n",
      "0     Sally    62       85       80\n",
      "1      Jane    88       79       67\n",
      "2     Suzie    94       74       95\n",
      "3     Billy    98       96       88\n",
      "4       Ada    77       92       98\n",
      "5      John    79       76       93\n",
      "6    Thomas    82       64       81\n",
      "7     Marie    93       63       90\n",
      "8    Albert    92       62       87\n",
      "9   Richard    69       80       94\n",
      "10    Isaac    92       99       93\n",
      "11     Alan    92       62       72\n"
     ]
    }
   ],
   "source": [
    "print(df)"
   ]
  },
  {
   "cell_type": "code",
   "execution_count": 37,
   "id": "4366ff91-f8ab-4ea8-aaa8-3ffcbb7c51ec",
   "metadata": {
    "tags": []
   },
   "outputs": [
    {
     "data": {
      "text/html": [
       "<div>\n",
       "<style scoped>\n",
       "    .dataframe tbody tr th:only-of-type {\n",
       "        vertical-align: middle;\n",
       "    }\n",
       "\n",
       "    .dataframe tbody tr th {\n",
       "        vertical-align: top;\n",
       "    }\n",
       "\n",
       "    .dataframe thead th {\n",
       "        text-align: right;\n",
       "    }\n",
       "</style>\n",
       "<table border=\"1\" class=\"dataframe\">\n",
       "  <thead>\n",
       "    <tr style=\"text-align: right;\">\n",
       "      <th></th>\n",
       "      <th>name</th>\n",
       "      <th>math</th>\n",
       "      <th>english</th>\n",
       "      <th>reading</th>\n",
       "      <th>passing_english</th>\n",
       "    </tr>\n",
       "  </thead>\n",
       "  <tbody>\n",
       "    <tr>\n",
       "      <th>0</th>\n",
       "      <td>Sally</td>\n",
       "      <td>62</td>\n",
       "      <td>85</td>\n",
       "      <td>80</td>\n",
       "      <td>True</td>\n",
       "    </tr>\n",
       "    <tr>\n",
       "      <th>1</th>\n",
       "      <td>Jane</td>\n",
       "      <td>88</td>\n",
       "      <td>79</td>\n",
       "      <td>67</td>\n",
       "      <td>True</td>\n",
       "    </tr>\n",
       "    <tr>\n",
       "      <th>2</th>\n",
       "      <td>Suzie</td>\n",
       "      <td>94</td>\n",
       "      <td>74</td>\n",
       "      <td>95</td>\n",
       "      <td>True</td>\n",
       "    </tr>\n",
       "    <tr>\n",
       "      <th>3</th>\n",
       "      <td>Billy</td>\n",
       "      <td>98</td>\n",
       "      <td>96</td>\n",
       "      <td>88</td>\n",
       "      <td>True</td>\n",
       "    </tr>\n",
       "    <tr>\n",
       "      <th>4</th>\n",
       "      <td>Ada</td>\n",
       "      <td>77</td>\n",
       "      <td>92</td>\n",
       "      <td>98</td>\n",
       "      <td>True</td>\n",
       "    </tr>\n",
       "    <tr>\n",
       "      <th>5</th>\n",
       "      <td>John</td>\n",
       "      <td>79</td>\n",
       "      <td>76</td>\n",
       "      <td>93</td>\n",
       "      <td>True</td>\n",
       "    </tr>\n",
       "    <tr>\n",
       "      <th>6</th>\n",
       "      <td>Thomas</td>\n",
       "      <td>82</td>\n",
       "      <td>64</td>\n",
       "      <td>81</td>\n",
       "      <td>False</td>\n",
       "    </tr>\n",
       "    <tr>\n",
       "      <th>7</th>\n",
       "      <td>Marie</td>\n",
       "      <td>93</td>\n",
       "      <td>63</td>\n",
       "      <td>90</td>\n",
       "      <td>False</td>\n",
       "    </tr>\n",
       "    <tr>\n",
       "      <th>8</th>\n",
       "      <td>Albert</td>\n",
       "      <td>92</td>\n",
       "      <td>62</td>\n",
       "      <td>87</td>\n",
       "      <td>False</td>\n",
       "    </tr>\n",
       "    <tr>\n",
       "      <th>9</th>\n",
       "      <td>Richard</td>\n",
       "      <td>69</td>\n",
       "      <td>80</td>\n",
       "      <td>94</td>\n",
       "      <td>True</td>\n",
       "    </tr>\n",
       "    <tr>\n",
       "      <th>10</th>\n",
       "      <td>Isaac</td>\n",
       "      <td>92</td>\n",
       "      <td>99</td>\n",
       "      <td>93</td>\n",
       "      <td>True</td>\n",
       "    </tr>\n",
       "    <tr>\n",
       "      <th>11</th>\n",
       "      <td>Alan</td>\n",
       "      <td>92</td>\n",
       "      <td>62</td>\n",
       "      <td>72</td>\n",
       "      <td>False</td>\n",
       "    </tr>\n",
       "  </tbody>\n",
       "</table>\n",
       "</div>"
      ],
      "text/plain": [
       "       name  math  english  reading  passing_english\n",
       "0     Sally    62       85       80             True\n",
       "1      Jane    88       79       67             True\n",
       "2     Suzie    94       74       95             True\n",
       "3     Billy    98       96       88             True\n",
       "4       Ada    77       92       98             True\n",
       "5      John    79       76       93             True\n",
       "6    Thomas    82       64       81            False\n",
       "7     Marie    93       63       90            False\n",
       "8    Albert    92       62       87            False\n",
       "9   Richard    69       80       94             True\n",
       "10    Isaac    92       99       93             True\n",
       "11     Alan    92       62       72            False"
      ]
     },
     "execution_count": 37,
     "metadata": {},
     "output_type": "execute_result"
    }
   ],
   "source": [
    "# a. Create a column namd passing_english that indicates whether each student has a passing grade in english. \n",
    "new_df = df.assign(passing_english = df['english'] > 70)\n",
    "new_df"
   ]
  },
  {
   "cell_type": "code",
   "execution_count": null,
   "id": "f2401f9a-9413-4910-8d29-ca6205e62d3c",
   "metadata": {},
   "outputs": [],
   "source": [
    "# b. Sort the english grades by the passing_english column. How are duplicates handled?\n"
   ]
  },
  {
   "cell_type": "code",
   "execution_count": null,
   "id": "46d1bcb2-a145-4696-b7cb-118977e7cfa0",
   "metadata": {},
   "outputs": [],
   "source": [
    "# c. Sort the english grades first by passing_english and then by student name. All the students that are failing english \n",
    "# should be first, and within the students that are failing english they should be ordered alphabetically. \n",
    "# The same should be true for the students passing english. \n",
    "# (Hint: you can pass a list to the .sort_values method)"
   ]
  },
  {
   "cell_type": "code",
   "execution_count": null,
   "id": "20b65f04-a1a1-4d1d-8e21-6c20bd5c34dd",
   "metadata": {},
   "outputs": [],
   "source": [
    "# d. Sort the english grades first by passing_english, and then by the actual english grade, \n",
    "# similar to how we did in the last step."
   ]
  },
  {
   "cell_type": "code",
   "execution_count": null,
   "id": "c1045638-0839-4808-8a07-34fdafa16fee",
   "metadata": {},
   "outputs": [],
   "source": [
    "# e. Calculate each students overall grade and add it as a column on the dataframe. \n",
    "# The overall grade is the average of the math, english, and reading grades."
   ]
  },
  {
   "cell_type": "markdown",
   "id": "fe2c992d-7836-4584-8f10-069280d2cca6",
   "metadata": {},
   "source": [
    "### Question 2: Load the mpg dataset. Read the documentation for the dataset and use it for the following questions:"
   ]
  },
  {
   "cell_type": "code",
   "execution_count": 11,
   "id": "9c1e58bb-eb82-4d87-a26b-83d7f9e56281",
   "metadata": {
    "tags": []
   },
   "outputs": [],
   "source": [
    "# How many rows and columns are there?"
   ]
  },
  {
   "cell_type": "code",
   "execution_count": 12,
   "id": "65ac7218-9842-44fd-9865-3a9449bc5d0a",
   "metadata": {
    "tags": []
   },
   "outputs": [],
   "source": [
    "# What are the data types of each column?"
   ]
  },
  {
   "cell_type": "code",
   "execution_count": 13,
   "id": "162a05c8-59ec-47e7-99d0-3cf5d24d0d0f",
   "metadata": {
    "tags": []
   },
   "outputs": [],
   "source": [
    "# Summarize the dataframe with .info and .describe"
   ]
  },
  {
   "cell_type": "code",
   "execution_count": 14,
   "id": "d60c5d82-6b0c-4c8c-b617-62f40fa3a62a",
   "metadata": {
    "tags": []
   },
   "outputs": [],
   "source": [
    "# Rename the cty column to city."
   ]
  },
  {
   "cell_type": "code",
   "execution_count": 15,
   "id": "95203966-91b6-4f6e-bf38-59b864ff4315",
   "metadata": {
    "tags": []
   },
   "outputs": [],
   "source": [
    "# Rename the hwy column to highway."
   ]
  },
  {
   "cell_type": "code",
   "execution_count": 16,
   "id": "1045bdd2-8f1b-472d-a504-aed23e29c216",
   "metadata": {
    "tags": []
   },
   "outputs": [],
   "source": [
    "# Do any cars have better city mileage than highway mileage?"
   ]
  },
  {
   "cell_type": "code",
   "execution_count": 18,
   "id": "9c2abca3-e425-4fc8-99b4-60771b169cbc",
   "metadata": {
    "tags": []
   },
   "outputs": [],
   "source": [
    "# Create a column named mileage_difference this column should contain the difference between highway and city mileage for each car."
   ]
  },
  {
   "cell_type": "code",
   "execution_count": 19,
   "id": "d838e9e2-7bfe-41d5-b6dc-68dc269d134a",
   "metadata": {
    "tags": []
   },
   "outputs": [],
   "source": [
    "# Which car (or cars) has the highest mileage difference?"
   ]
  },
  {
   "cell_type": "code",
   "execution_count": 20,
   "id": "06a4af21-228b-4ba1-bdda-aebd08e3fc15",
   "metadata": {
    "tags": []
   },
   "outputs": [],
   "source": [
    "# Which compact class car has the lowest highway mileage? The best?"
   ]
  },
  {
   "cell_type": "code",
   "execution_count": 21,
   "id": "88669b97-1f29-4038-9be2-863efc2f9283",
   "metadata": {
    "tags": []
   },
   "outputs": [],
   "source": [
    "# Create a column named average_mileage that is the mean of the city and highway mileage."
   ]
  },
  {
   "cell_type": "code",
   "execution_count": 22,
   "id": "f22aa599-2ca3-4b7e-a8f1-aadd59e926d9",
   "metadata": {
    "tags": []
   },
   "outputs": [],
   "source": [
    "# Which dodge car has the best average mileage? The worst?"
   ]
  },
  {
   "cell_type": "markdown",
   "id": "de37081e-a1ec-4791-acac-85d6249a6111",
   "metadata": {},
   "source": [
    "### Question 3: Load the Mammals dataset. Read the documentation for it, and use the data to answer these questions:"
   ]
  },
  {
   "cell_type": "code",
   "execution_count": 23,
   "id": "b879b30c-0a04-4ddb-bf04-af1479f0776a",
   "metadata": {
    "tags": []
   },
   "outputs": [],
   "source": [
    "# How many rows and columns are there?"
   ]
  },
  {
   "cell_type": "code",
   "execution_count": 24,
   "id": "685b3e88-3163-4aef-82d4-ff6453283fdb",
   "metadata": {
    "tags": []
   },
   "outputs": [],
   "source": [
    "# What are the data types?"
   ]
  },
  {
   "cell_type": "code",
   "execution_count": 25,
   "id": "9ca2ded3-9c56-4370-87e1-992f2e95ad71",
   "metadata": {
    "tags": []
   },
   "outputs": [],
   "source": [
    "# Summarize the dataframe with .info and .describe"
   ]
  },
  {
   "cell_type": "code",
   "execution_count": 26,
   "id": "e5a9816e-a6c5-48ea-aedd-2e81950a0612",
   "metadata": {
    "tags": []
   },
   "outputs": [],
   "source": [
    "# What is the the weight of the fastest animal?"
   ]
  },
  {
   "cell_type": "code",
   "execution_count": 27,
   "id": "23a51a4c-687d-4665-9452-0ba1b5e07cb0",
   "metadata": {
    "tags": []
   },
   "outputs": [],
   "source": [
    "# What is the overal percentage of specials?"
   ]
  },
  {
   "cell_type": "code",
   "execution_count": 28,
   "id": "c3893b4a-c240-44f5-ba73-b81c7f40a934",
   "metadata": {
    "tags": []
   },
   "outputs": [],
   "source": [
    "# How many animals are hoppers that are above the median speed? What percentage is this?"
   ]
  },
  {
   "cell_type": "code",
   "execution_count": null,
   "id": "73a063d6-7ee5-496d-a680-6204656c1f53",
   "metadata": {},
   "outputs": [],
   "source": []
  }
 ],
 "metadata": {
  "kernelspec": {
   "display_name": "Python 3 (ipykernel)",
   "language": "python",
   "name": "python3"
  },
  "language_info": {
   "codemirror_mode": {
    "name": "ipython",
    "version": 3
   },
   "file_extension": ".py",
   "mimetype": "text/x-python",
   "name": "python",
   "nbconvert_exporter": "python",
   "pygments_lexer": "ipython3",
   "version": "3.11.4"
  }
 },
 "nbformat": 4,
 "nbformat_minor": 5
}
