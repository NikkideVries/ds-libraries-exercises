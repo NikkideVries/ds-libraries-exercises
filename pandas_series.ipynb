{
 "cells": [
  {
   "cell_type": "markdown",
   "id": "cc6a1df8-fd65-4efb-a575-f1bbca767fa2",
   "metadata": {},
   "source": [
    "#### Exercises Part 1:"
   ]
  },
  {
   "cell_type": "code",
   "execution_count": 33,
   "id": "823b7904-0a0c-4ab9-b10e-3bee24199153",
   "metadata": {
    "tags": []
   },
   "outputs": [],
   "source": [
    "import pandas as pd"
   ]
  },
  {
   "cell_type": "code",
   "execution_count": 2,
   "id": "65cbb72e-1275-4fb8-9cbe-5982ff0a6503",
   "metadata": {
    "tags": []
   },
   "outputs": [],
   "source": [
    "my_list = [\"kiwi\", \"mango\", \"strawberry\", \"pineapple\", \"gala apple\", \"honeycrisp apple\", \"tomato\", \"watermelon\", \"honeydew\", \"kiwi\", \"kiwi\", \"kiwi\", \"mango\", \"blueberry\", \"blackberry\", \"gooseberry\", \"papaya\"]"
   ]
  },
  {
   "cell_type": "code",
   "execution_count": 3,
   "id": "cc7eaed3-eb9b-4db1-bf0c-63baa20e0342",
   "metadata": {
    "tags": []
   },
   "outputs": [],
   "source": [
    "fruits = pd.Series(my_list)"
   ]
  },
  {
   "cell_type": "code",
   "execution_count": 4,
   "id": "1ea4e41b-61aa-4fd6-b38a-8b2c54b05426",
   "metadata": {
    "tags": []
   },
   "outputs": [
    {
     "data": {
      "text/plain": [
       "17"
      ]
     },
     "execution_count": 4,
     "metadata": {},
     "output_type": "execute_result"
    }
   ],
   "source": [
    "# 1. Determine the number of elements in fruits\n",
    "fruits.count()"
   ]
  },
  {
   "cell_type": "code",
   "execution_count": 5,
   "id": "c3c878e1-4010-4890-bdca-83298482cb07",
   "metadata": {
    "tags": []
   },
   "outputs": [
    {
     "data": {
      "text/plain": [
       "17"
      ]
     },
     "execution_count": 5,
     "metadata": {},
     "output_type": "execute_result"
    }
   ],
   "source": [
    "fruits.size"
   ]
  },
  {
   "cell_type": "code",
   "execution_count": 6,
   "id": "0fdea3cd-2409-4389-bbab-282c88169829",
   "metadata": {
    "tags": []
   },
   "outputs": [
    {
     "data": {
      "text/plain": [
       "RangeIndex(start=0, stop=17, step=1)"
      ]
     },
     "execution_count": 6,
     "metadata": {},
     "output_type": "execute_result"
    }
   ],
   "source": [
    "# 2. Ouput only the index from fruits\n",
    "fruits.index"
   ]
  },
  {
   "cell_type": "code",
   "execution_count": 7,
   "id": "5313bd26-da2e-487e-b867-2dd39cf37834",
   "metadata": {
    "tags": []
   },
   "outputs": [
    {
     "data": {
      "text/plain": [
       "array(['kiwi', 'mango', 'strawberry', 'pineapple', 'gala apple',\n",
       "       'honeycrisp apple', 'tomato', 'watermelon', 'honeydew', 'kiwi',\n",
       "       'kiwi', 'kiwi', 'mango', 'blueberry', 'blackberry', 'gooseberry',\n",
       "       'papaya'], dtype=object)"
      ]
     },
     "execution_count": 7,
     "metadata": {},
     "output_type": "execute_result"
    }
   ],
   "source": [
    "# 3. Output only the values from fruits\n",
    "fruits.values"
   ]
  },
  {
   "cell_type": "code",
   "execution_count": 8,
   "id": "d04a7df1-eee4-4472-9fef-a1d39cd28b30",
   "metadata": {
    "tags": []
   },
   "outputs": [
    {
     "data": {
      "text/plain": [
       "dtype('O')"
      ]
     },
     "execution_count": 8,
     "metadata": {},
     "output_type": "execute_result"
    }
   ],
   "source": [
    "# 4. Confirm the data type of the values in fruits\n",
    "# O is object\n",
    "fruits.dtypes"
   ]
  },
  {
   "cell_type": "code",
   "execution_count": 9,
   "id": "bd5f04d5-ba72-422b-b27b-bef838847303",
   "metadata": {
    "tags": []
   },
   "outputs": [
    {
     "data": {
      "text/plain": [
       "0          kiwi\n",
       "1         mango\n",
       "2    strawberry\n",
       "3     pineapple\n",
       "4    gala apple\n",
       "dtype: object"
      ]
     },
     "execution_count": 9,
     "metadata": {},
     "output_type": "execute_result"
    }
   ],
   "source": [
    "# 5. Output only the first five values from fruits. Output the last three values. Output two random values from fruits.\n",
    "fruits.head(5)"
   ]
  },
  {
   "cell_type": "code",
   "execution_count": 10,
   "id": "1d1bd42c-6f08-405a-a33a-ba34ee7c53d2",
   "metadata": {
    "tags": []
   },
   "outputs": [
    {
     "data": {
      "text/plain": [
       "14    blackberry\n",
       "15    gooseberry\n",
       "16        papaya\n",
       "dtype: object"
      ]
     },
     "execution_count": 10,
     "metadata": {},
     "output_type": "execute_result"
    }
   ],
   "source": [
    "fruits.tail(3)"
   ]
  },
  {
   "cell_type": "code",
   "execution_count": 11,
   "id": "c4f67bfb-df02-4b6a-a62d-6803618ea9cf",
   "metadata": {
    "tags": []
   },
   "outputs": [
    {
     "data": {
      "text/plain": [
       "7     watermelon\n",
       "11          kiwi\n",
       "dtype: object"
      ]
     },
     "execution_count": 11,
     "metadata": {},
     "output_type": "execute_result"
    }
   ],
   "source": [
    "fruits.sample(2)"
   ]
  },
  {
   "cell_type": "code",
   "execution_count": 12,
   "id": "fc52bdcf-ef50-4fa1-bcb0-22a7724d4625",
   "metadata": {
    "tags": []
   },
   "outputs": [
    {
     "data": {
      "text/plain": [
       "count       17\n",
       "unique      13\n",
       "top       kiwi\n",
       "freq         4\n",
       "dtype: object"
      ]
     },
     "execution_count": 12,
     "metadata": {},
     "output_type": "execute_result"
    }
   ],
   "source": [
    "# Run the .describe() on fruits to see what information it returns when called on a Series with string values.\n",
    "fruits.describe()"
   ]
  },
  {
   "cell_type": "code",
   "execution_count": 13,
   "id": "344dc11d-8f6a-4cc4-af77-320c91801dcd",
   "metadata": {
    "tags": []
   },
   "outputs": [
    {
     "data": {
      "text/plain": [
       "kiwi                4\n",
       "mango               2\n",
       "strawberry          1\n",
       "pineapple           1\n",
       "gala apple          1\n",
       "honeycrisp apple    1\n",
       "tomato              1\n",
       "watermelon          1\n",
       "honeydew            1\n",
       "blueberry           1\n",
       "blackberry          1\n",
       "gooseberry          1\n",
       "papaya              1\n",
       "dtype: int64"
      ]
     },
     "execution_count": 13,
     "metadata": {},
     "output_type": "execute_result"
    }
   ],
   "source": [
    "# 7. Run the code necessary to produce only the unique string values from fruits.\n",
    "fruits.value_counts()"
   ]
  },
  {
   "cell_type": "code",
   "execution_count": 14,
   "id": "de633f27-161d-4a92-a3ac-af9a3db30b97",
   "metadata": {
    "tags": []
   },
   "outputs": [
    {
     "data": {
      "text/plain": [
       "array(['kiwi', 'mango', 'strawberry', 'pineapple', 'gala apple',\n",
       "       'honeycrisp apple', 'tomato', 'watermelon', 'honeydew',\n",
       "       'blueberry', 'blackberry', 'gooseberry', 'papaya'], dtype=object)"
      ]
     },
     "execution_count": 14,
     "metadata": {},
     "output_type": "execute_result"
    }
   ],
   "source": [
    "fruits.unique()"
   ]
  },
  {
   "cell_type": "code",
   "execution_count": 15,
   "id": "62bf227d-7656-42b4-9376-afecead45d3b",
   "metadata": {
    "tags": []
   },
   "outputs": [
    {
     "data": {
      "text/plain": [
       "kiwi                4\n",
       "mango               2\n",
       "strawberry          1\n",
       "pineapple           1\n",
       "gala apple          1\n",
       "honeycrisp apple    1\n",
       "tomato              1\n",
       "watermelon          1\n",
       "honeydew            1\n",
       "blueberry           1\n",
       "blackberry          1\n",
       "gooseberry          1\n",
       "papaya              1\n",
       "dtype: int64"
      ]
     },
     "execution_count": 15,
     "metadata": {},
     "output_type": "execute_result"
    }
   ],
   "source": [
    "# 8. Determine how many times each unique string value occurs in fruits.\n",
    "fruits.value_counts()"
   ]
  },
  {
   "cell_type": "code",
   "execution_count": 16,
   "id": "59ba3dff-05c6-444d-9cc0-ac7c36b6acbf",
   "metadata": {
    "tags": []
   },
   "outputs": [
    {
     "name": "stdout",
     "output_type": "stream",
     "text": [
      "kiwi\n"
     ]
    }
   ],
   "source": [
    "# 9. Determine the string value that occurs most frequently in fruits.\n",
    "most = fruits.value_counts()\n",
    "print(most.index[0])"
   ]
  },
  {
   "cell_type": "code",
   "execution_count": 17,
   "id": "9c9c6023-8813-46a1-9020-8bb78d5d7abd",
   "metadata": {
    "tags": []
   },
   "outputs": [
    {
     "data": {
      "text/plain": [
       "kiwi    4\n",
       "dtype: int64"
      ]
     },
     "execution_count": 17,
     "metadata": {},
     "output_type": "execute_result"
    }
   ],
   "source": [
    "fruits.value_counts().nlargest(1)"
   ]
  },
  {
   "cell_type": "code",
   "execution_count": 18,
   "id": "b71c1c44-fa08-4fce-a425-06a31492b338",
   "metadata": {
    "tags": []
   },
   "outputs": [
    {
     "name": "stdout",
     "output_type": "stream",
     "text": [
      "papaya\n"
     ]
    }
   ],
   "source": [
    "# 10. Determine the string value that occurs least frequently in fruits.\n",
    "least = fruits.value_counts()\n",
    "print(least.index[-1])"
   ]
  },
  {
   "cell_type": "code",
   "execution_count": 19,
   "id": "34a7ec92-8bef-4e97-8f3d-a1dca4def171",
   "metadata": {
    "tags": []
   },
   "outputs": [
    {
     "data": {
      "text/plain": [
       "strawberry          1\n",
       "pineapple           1\n",
       "gala apple          1\n",
       "honeycrisp apple    1\n",
       "tomato              1\n",
       "watermelon          1\n",
       "honeydew            1\n",
       "blueberry           1\n",
       "blackberry          1\n",
       "gooseberry          1\n",
       "papaya              1\n",
       "dtype: int64"
      ]
     },
     "execution_count": 19,
     "metadata": {},
     "output_type": "execute_result"
    }
   ],
   "source": [
    "fruits.value_counts().nsmallest(keep = 'all')"
   ]
  },
  {
   "cell_type": "markdown",
   "id": "fadcbad3-be6f-40ac-b85b-50ce35d2749b",
   "metadata": {},
   "source": [
    "#### Exercises Part II"
   ]
  },
  {
   "cell_type": "code",
   "execution_count": 20,
   "id": "ed740f7e-9765-4dd9-b122-097b6ba6f81d",
   "metadata": {
    "tags": []
   },
   "outputs": [
    {
     "data": {
      "text/plain": [
       "0                 Kiwi\n",
       "1                Mango\n",
       "2           Strawberry\n",
       "3            Pineapple\n",
       "4           Gala apple\n",
       "5     Honeycrisp apple\n",
       "6               Tomato\n",
       "7           Watermelon\n",
       "8             Honeydew\n",
       "9                 Kiwi\n",
       "10                Kiwi\n",
       "11                Kiwi\n",
       "12               Mango\n",
       "13           Blueberry\n",
       "14          Blackberry\n",
       "15          Gooseberry\n",
       "16              Papaya\n",
       "dtype: object"
      ]
     },
     "execution_count": 20,
     "metadata": {},
     "output_type": "execute_result"
    }
   ],
   "source": [
    "# 1. Capitalize all the string values in fruits\n",
    "fruits.str.capitalize()"
   ]
  },
  {
   "cell_type": "code",
   "execution_count": 21,
   "id": "ecd5db06-06c7-44b8-b623-e8633417ea99",
   "metadata": {
    "tags": []
   },
   "outputs": [
    {
     "data": {
      "text/plain": [
       "14"
      ]
     },
     "execution_count": 21,
     "metadata": {},
     "output_type": "execute_result"
    }
   ],
   "source": [
    "# 2. Count the letter 'a' in all the string values(use string vectorization)\n",
    "fruits.str.count('a').sum()"
   ]
  },
  {
   "cell_type": "code",
   "execution_count": 67,
   "id": "1b5e8823-189f-482b-a94c-ea42f62b73fd",
   "metadata": {
    "tags": []
   },
   "outputs": [
    {
     "data": {
      "text/plain": [
       "2          strawberry\n",
       "2          strawberry\n",
       "2          strawberry\n",
       "4          gala apple\n",
       "4          gala apple\n",
       "5    honeycrisp apple\n",
       "3           pineapple\n",
       "4          gala apple\n",
       "3           pineapple\n",
       "2          strawberry\n",
       "2          strawberry\n",
       "2          strawberry\n",
       "2          strawberry\n",
       "3           pineapple\n",
       "2          strawberry\n",
       "4          gala apple\n",
       "3           pineapple\n",
       "dtype: object"
      ]
     },
     "execution_count": 67,
     "metadata": {},
     "output_type": "execute_result"
    }
   ],
   "source": [
    "# 3. Output the number of vowels in each and every string value.\n",
    "def count_vowels(string):\n",
    "    vowels = 'AEIOUaeiou'\n",
    "    vowels_count = sum(1 for char in string if char in vowels)\n",
    "    return vowels_count\n",
    "\n",
    "fruits[fruits.apply(count_vowels)]"
   ]
  },
  {
   "cell_type": "code",
   "execution_count": 235,
   "id": "8d2dc383-3834-40f7-946e-920db9f85985",
   "metadata": {
    "tags": []
   },
   "outputs": [
    {
     "data": {
      "text/plain": [
       "0     2\n",
       "1     2\n",
       "2     2\n",
       "3     4\n",
       "4     4\n",
       "5     5\n",
       "6     3\n",
       "7     4\n",
       "8     3\n",
       "9     2\n",
       "10    2\n",
       "11    2\n",
       "12    2\n",
       "13    3\n",
       "14    2\n",
       "15    4\n",
       "16    3\n",
       "dtype: int64"
      ]
     },
     "execution_count": 235,
     "metadata": {},
     "output_type": "execute_result"
    }
   ],
   "source": [
    "fruits.str.count(r'[aeiou]') #this is using REGEX and the square brackets are saying any of the values"
   ]
  },
  {
   "cell_type": "code",
   "execution_count": 23,
   "id": "67e3130d-df00-48f8-a390-cf1789d82671",
   "metadata": {
    "tags": []
   },
   "outputs": [
    {
     "data": {
      "text/plain": [
       "5    honeycrisp apple\n",
       "dtype: object"
      ]
     },
     "execution_count": 23,
     "metadata": {},
     "output_type": "execute_result"
    }
   ],
   "source": [
    "# 4. Write the code to get the longest string value from fruits.\n",
    "# longest string value\n",
    "fruits.apply(lambda x: len(x)).max()\n",
    "#hard coding the value\n",
    "fruits[fruits.str.len() >= 16]"
   ]
  },
  {
   "cell_type": "code",
   "execution_count": 24,
   "id": "ab0324e9-631f-4f14-b88d-235bdcd83b4b",
   "metadata": {
    "tags": []
   },
   "outputs": [
    {
     "data": {
      "text/plain": [
       "'honeycrisp apple'"
      ]
     },
     "execution_count": 24,
     "metadata": {},
     "output_type": "execute_result"
    }
   ],
   "source": [
    "# not hardcoding the value\n",
    "max(fruits, key=len)"
   ]
  },
  {
   "cell_type": "code",
   "execution_count": 25,
   "id": "7995a1fe-8f38-4038-a81d-8a1c45158511",
   "metadata": {
    "tags": []
   },
   "outputs": [
    {
     "data": {
      "text/plain": [
       "1                mango\n",
       "2           strawberry\n",
       "3            pineapple\n",
       "4           gala apple\n",
       "5     honeycrisp apple\n",
       "6               tomato\n",
       "7           watermelon\n",
       "8             honeydew\n",
       "12               mango\n",
       "13           blueberry\n",
       "14          blackberry\n",
       "15          gooseberry\n",
       "16              papaya\n",
       "dtype: object"
      ]
     },
     "execution_count": 25,
     "metadata": {},
     "output_type": "execute_result"
    }
   ],
   "source": [
    "# 5. Write the code to get the string values with 5 or more letters in the name.\n",
    "fruits[fruits.str.len() >= 5]"
   ]
  },
  {
   "cell_type": "code",
   "execution_count": 26,
   "id": "ef3e2625-f24c-47eb-97e5-0e03b978e18d",
   "metadata": {
    "tags": []
   },
   "outputs": [
    {
     "data": {
      "text/plain": [
       "6         tomato\n",
       "15    gooseberry\n",
       "dtype: object"
      ]
     },
     "execution_count": 26,
     "metadata": {},
     "output_type": "execute_result"
    }
   ],
   "source": [
    "# 6. Find the fruit(s) containing the letter \"o\" two or more times.\n",
    "# The lambda function takes each element (x), which is a string, \n",
    "# and checks whether the count of lowercase 'o' characters in that string is greater than or equal to 2. \n",
    "fruits[fruits.apply(lambda x: x.count('o')>=2)]\n"
   ]
  },
  {
   "cell_type": "code",
   "execution_count": 236,
   "id": "9065c56f-322f-4a49-8c9c-3e0fe63d54a9",
   "metadata": {
    "tags": []
   },
   "outputs": [
    {
     "data": {
      "text/plain": [
       "6         tomato\n",
       "15    gooseberry\n",
       "dtype: object"
      ]
     },
     "execution_count": 236,
     "metadata": {},
     "output_type": "execute_result"
    }
   ],
   "source": [
    "fruits[fruits.str.count('o') >= 2]"
   ]
  },
  {
   "cell_type": "code",
   "execution_count": 27,
   "id": "b0023903-03b1-4395-a558-6c955b576974",
   "metadata": {
    "tags": []
   },
   "outputs": [
    {
     "data": {
      "text/plain": [
       "2     strawberry\n",
       "13     blueberry\n",
       "14    blackberry\n",
       "15    gooseberry\n",
       "dtype: object"
      ]
     },
     "execution_count": 27,
     "metadata": {},
     "output_type": "execute_result"
    }
   ],
   "source": [
    "# 7. Write the code to get only the string values containing the substring \"berry\".\n",
    "fruits[fruits.str.contains('berry')]"
   ]
  },
  {
   "cell_type": "code",
   "execution_count": 28,
   "id": "0a79d63f-a509-4165-9e36-505e04abfae9",
   "metadata": {
    "tags": []
   },
   "outputs": [
    {
     "data": {
      "text/plain": [
       "3           pineapple\n",
       "4          gala apple\n",
       "5    honeycrisp apple\n",
       "dtype: object"
      ]
     },
     "execution_count": 28,
     "metadata": {},
     "output_type": "execute_result"
    }
   ],
   "source": [
    "# 8. Write the code to get only the string values containing the substring \"apple\".\n",
    "fruits[fruits.str.contains('apple')]"
   ]
  },
  {
   "cell_type": "code",
   "execution_count": 29,
   "id": "6a51f5ea-7bb2-44ef-82b8-7a263b11977b",
   "metadata": {
    "tags": []
   },
   "outputs": [
    {
     "data": {
      "text/plain": [
       "'honeycrisp apple'"
      ]
     },
     "execution_count": 29,
     "metadata": {},
     "output_type": "execute_result"
    }
   ],
   "source": [
    "# 9. Which string value contains the most vowels?\n",
    "fruits[max(fruits.str.count('[aeiou]'))]"
   ]
  },
  {
   "cell_type": "code",
   "execution_count": null,
   "id": "20655910-944c-4820-a624-c37697efde02",
   "metadata": {},
   "outputs": [],
   "source": [
    "max_vowels = frutits.value_counts().max()\n",
    "max_vowels\n",
    "fruits [fruits.apply(count_vowels) == max_vowels]"
   ]
  },
  {
   "cell_type": "markdown",
   "id": "dd947152-dd2a-4e52-985e-0b9539a3ecf9",
   "metadata": {},
   "source": [
    "#### Exercises Part III A"
   ]
  },
  {
   "cell_type": "code",
   "execution_count": 237,
   "id": "2a6a2ddb-9bce-4c42-979b-aacfaeb2b319",
   "metadata": {
    "tags": []
   },
   "outputs": [
    {
     "ename": "SyntaxError",
     "evalue": "unterminated string literal (detected at line 1) (226760834.py, line 1)",
     "output_type": "error",
     "traceback": [
      "\u001b[0;36m  Cell \u001b[0;32mIn[237], line 1\u001b[0;36m\u001b[0m\n\u001b[0;31m    text = 'hnvidduckkqxwymbimkccexbkmqygkxoyndmcxnwqarhyffsjpsrabtjzsypmzadfavyrnndndvswreaux\\\u001b[0m\n\u001b[0m           ^\u001b[0m\n\u001b[0;31mSyntaxError\u001b[0m\u001b[0;31m:\u001b[0m unterminated string literal (detected at line 1)\n"
     ]
    }
   ],
   "source": [
    "text = 'hnvidduckkqxwymbimkccexbkmqygkxoyndmcxnwqarhyffsjpsrabtjzsypmzadfavyrnndndvswreaux\\ \n",
    "ovncxtwzpwejilzjrmmbbgbyxvjtewqthafnbkqplarokky\\\n",
    "ydtubbmnexoypulzwfhqvckdpqtpoppzqrmcvhhpwgjwupgzhiofohawytlsiyecuproguy' \n",
    "#\\ backslash: allows code to continue you to another line without breaking it.\n",
    "letters = pd.Series(letters)"
   ]
  },
  {
   "cell_type": "code",
   "execution_count": 31,
   "id": "535902ea-a07a-4a71-936d-78655fa175fe",
   "metadata": {
    "tags": []
   },
   "outputs": [],
   "source": [
    "import pandas as pd"
   ]
  },
  {
   "cell_type": "code",
   "execution_count": 37,
   "id": "cd37c1fe-7fa9-42f9-8f35-92944acc3dde",
   "metadata": {
    "tags": []
   },
   "outputs": [
    {
     "data": {
      "text/plain": [
       "'y'"
      ]
     },
     "execution_count": 37,
     "metadata": {},
     "output_type": "execute_result"
    }
   ],
   "source": [
    "# 1. Which letter occurs the most frequently in the letter series?\n",
    "letters.describe().top"
   ]
  },
  {
   "cell_type": "code",
   "execution_count": 238,
   "id": "72b8f057-eaa3-4b61-8d38-50772c961d1a",
   "metadata": {
    "tags": []
   },
   "outputs": [
    {
     "data": {
      "text/plain": [
       "y    13\n",
       "dtype: int64"
      ]
     },
     "execution_count": 238,
     "metadata": {},
     "output_type": "execute_result"
    }
   ],
   "source": [
    "letters.value_counts().head(1)"
   ]
  },
  {
   "cell_type": "code",
   "execution_count": 241,
   "id": "8f3c69b0-f450-4f14-a39a-803a3083ba57",
   "metadata": {
    "tags": []
   },
   "outputs": [
    {
     "data": {
      "text/plain": [
       "y    13\n",
       "dtype: int64"
      ]
     },
     "execution_count": 241,
     "metadata": {},
     "output_type": "execute_result"
    }
   ],
   "source": [
    "letters.value_counts().nlargest(1)"
   ]
  },
  {
   "cell_type": "code",
   "execution_count": 46,
   "id": "a46a73de-58ff-4ea1-9ad4-fdbc5dbef679",
   "metadata": {
    "tags": []
   },
   "outputs": [
    {
     "data": {
      "text/plain": [
       "dtype('O')"
      ]
     },
     "execution_count": 46,
     "metadata": {},
     "output_type": "execute_result"
    }
   ],
   "source": [
    "letters.dtype"
   ]
  },
  {
   "cell_type": "code",
   "execution_count": 245,
   "id": "3d1b7981-21c2-446b-89b3-2e32cca1be09",
   "metadata": {
    "tags": []
   },
   "outputs": [],
   "source": [
    "# 2. Which letter occurs the Least frequently?"
   ]
  },
  {
   "cell_type": "code",
   "execution_count": 243,
   "id": "c54dedf7-233a-463e-a957-4fafecc23ce2",
   "metadata": {
    "tags": []
   },
   "outputs": [
    {
     "data": {
      "text/plain": [
       "l    4\n",
       "dtype: int64"
      ]
     },
     "execution_count": 243,
     "metadata": {},
     "output_type": "execute_result"
    }
   ],
   "source": [
    "letters.value_counts().nsmallest(1)"
   ]
  },
  {
   "cell_type": "code",
   "execution_count": 246,
   "id": "df2ba909-2021-403f-b648-03221004f2ec",
   "metadata": {
    "tags": []
   },
   "outputs": [
    {
     "data": {
      "text/plain": [
       "'l'"
      ]
     },
     "execution_count": 246,
     "metadata": {},
     "output_type": "execute_result"
    }
   ],
   "source": [
    "letters.value_counts().idxmin()"
   ]
  },
  {
   "cell_type": "code",
   "execution_count": 59,
   "id": "329fb77f-26ef-4d71-b92a-6656ae6218b4",
   "metadata": {
    "tags": []
   },
   "outputs": [
    {
     "data": {
      "text/plain": [
       "34"
      ]
     },
     "execution_count": 59,
     "metadata": {},
     "output_type": "execute_result"
    }
   ],
   "source": [
    "# How many vowels are in the Series?\n",
    "sum(letters.apply(count_vowels))"
   ]
  },
  {
   "cell_type": "code",
   "execution_count": 91,
   "id": "3f6221b8-3b01-4c7a-815b-169de6a41225",
   "metadata": {
    "tags": []
   },
   "outputs": [],
   "source": [
    "# How many consonants are in the Series?\n",
    "def is_consonant(char):\n",
    "    vowels = 'AEIOUaeiou'\n",
    "    return char.isalpha() and char not in vowels\n",
    "        "
   ]
  },
  {
   "cell_type": "code",
   "execution_count": 93,
   "id": "cde17969-63b0-494b-8f5c-6ce0927803b3",
   "metadata": {
    "tags": []
   },
   "outputs": [
    {
     "data": {
      "text/plain": [
       "166"
      ]
     },
     "execution_count": 93,
     "metadata": {},
     "output_type": "execute_result"
    }
   ],
   "source": [
    "letters[letters.apply(is_consonant)].count()"
   ]
  },
  {
   "cell_type": "code",
   "execution_count": 247,
   "id": "597eddc3-ace4-480b-9dfd-c4800a5633bd",
   "metadata": {
    "tags": []
   },
   "outputs": [
    {
     "data": {
      "text/plain": [
       "166"
      ]
     },
     "execution_count": 247,
     "metadata": {},
     "output_type": "execute_result"
    }
   ],
   "source": [
    "len(letters) - letters.apply(count_vowels).sum()"
   ]
  },
  {
   "cell_type": "code",
   "execution_count": 96,
   "id": "c803c69a-81fb-4931-a02b-fb1b2927095b",
   "metadata": {
    "tags": []
   },
   "outputs": [
    {
     "data": {
      "text/plain": [
       "0      H\n",
       "1      N\n",
       "2      V\n",
       "3      I\n",
       "4      D\n",
       "      ..\n",
       "195    R\n",
       "196    O\n",
       "197    G\n",
       "198    U\n",
       "199    Y\n",
       "Length: 200, dtype: object"
      ]
     },
     "execution_count": 96,
     "metadata": {},
     "output_type": "execute_result"
    }
   ],
   "source": [
    "# Create a Series that has all of the same letters but uppercased\n",
    "letters.str.upper()"
   ]
  },
  {
   "cell_type": "code",
   "execution_count": 248,
   "id": "76f56fc0-fd63-4d80-9fa5-654cdc3932ec",
   "metadata": {
    "tags": []
   },
   "outputs": [
    {
     "data": {
      "image/png": "[encoded data removed]",
      "text/plain": [
       "<Figure size 640x480 with 1 Axes>"
      ]
     },
     "metadata": {},
     "output_type": "display_data"
    }
   ],
   "source": [
    "# Create a bar plot of the frequencies of the most commonly occuring letters\n",
    "letters.value_counts().head(6).plot.bar();"
   ]
  },
  {
   "cell_type": "markdown",
   "id": "ba7451d8-afbd-4281-b8ed-93bf807ac3e3",
   "metadata": {},
   "source": [
    "#### Exercise III B"
   ]
  },
  {
   "cell_type": "code",
   "execution_count": 107,
   "id": "6aa337f9-94db-4eaf-96f6-7a975471b309",
   "metadata": {
    "tags": []
   },
   "outputs": [],
   "source": [
    "numbers = ['$796,459.41', '$278.60', '$482,571.67', '$4,503,915.98', '$2,121,418.3', '$1,260,813.3', '$87,231.01', '$1,509,175.45', '$4,138,548.00', '$2,848,913.80', '$594,715.39', '$4,789,988.17', '$4,513,644.5', '$3,191,059.97', '$1,758,712.24', '$4,338,283.54', '$4,738,303.38', '$2,791,759.67', '$769,681.94', '$452,650.23']"
   ]
  },
  {
   "cell_type": "code",
   "execution_count": 109,
   "id": "a43cab4c-8891-4906-b62b-6055e61cab71",
   "metadata": {
    "tags": []
   },
   "outputs": [],
   "source": [
    "numbers = pd.Series(numbers)"
   ]
  },
  {
   "cell_type": "code",
   "execution_count": 110,
   "id": "2eda6265-7b78-4613-a93c-dadbaacb5486",
   "metadata": {
    "tags": []
   },
   "outputs": [
    {
     "data": {
      "text/plain": [
       "dtype('O')"
      ]
     },
     "execution_count": 110,
     "metadata": {},
     "output_type": "execute_result"
    }
   ],
   "source": [
    "# 1. What is the data type of numbers Series?\n",
    "numbers.dtype"
   ]
  },
  {
   "cell_type": "code",
   "execution_count": 114,
   "id": "c68174fe-d17c-4604-9954-6c2c7963a2ea",
   "metadata": {
    "tags": []
   },
   "outputs": [
    {
     "data": {
      "text/plain": [
       "20"
      ]
     },
     "execution_count": 114,
     "metadata": {},
     "output_type": "execute_result"
    }
   ],
   "source": [
    "# 2. How many elements are in the number Series?\n",
    "numbers.size"
   ]
  },
  {
   "cell_type": "code",
   "execution_count": 125,
   "id": "f7dc4f1d-e15b-4171-99f7-4586206da07c",
   "metadata": {
    "tags": []
   },
   "outputs": [],
   "source": [
    "# 3. Prefrom the necessary manipulations by acessing Series attributes and methods to convert the numbers Series to a numeric data type.\n",
    "def remove_commas(string):\n",
    "    if type(string) == str:\n",
    "        stripstring = string.replace(\"$\",\"\").replace(\",\",\"\")\n",
    "        return stripstring"
   ]
  },
  {
   "cell_type": "code",
   "execution_count": 133,
   "id": "19619862-fc7e-4c10-906f-c9b434071996",
   "metadata": {
    "tags": []
   },
   "outputs": [],
   "source": [
    "new_numbers = numbers.apply(remove_commas)"
   ]
  },
  {
   "cell_type": "code",
   "execution_count": 136,
   "id": "4d50137b-f5bf-440f-8f39-1ea381e66207",
   "metadata": {
    "tags": []
   },
   "outputs": [],
   "source": [
    "new_numbers = newnumbers.astype(float)"
   ]
  },
  {
   "cell_type": "code",
   "execution_count": 137,
   "id": "1d1dcc5e-ac98-416c-b72a-54795168ae71",
   "metadata": {
    "tags": []
   },
   "outputs": [
    {
     "data": {
      "text/plain": [
       "dtype('float64')"
      ]
     },
     "execution_count": 137,
     "metadata": {},
     "output_type": "execute_result"
    }
   ],
   "source": [
    "new_numbers.dtype"
   ]
  },
  {
   "cell_type": "code",
   "execution_count": 139,
   "id": "9704deee-733d-4bc6-ad82-755f4ec75395",
   "metadata": {
    "tags": []
   },
   "outputs": [
    {
     "data": {
      "text/plain": [
       "4789988.17"
      ]
     },
     "execution_count": 139,
     "metadata": {},
     "output_type": "execute_result"
    }
   ],
   "source": [
    "# 4. Run the code to discover the maximum value from the Series?\n",
    "new_numbers.max()"
   ]
  },
  {
   "cell_type": "code",
   "execution_count": 142,
   "id": "30a4531c-30ae-4a55-bac0-7b4469d94838",
   "metadata": {
    "tags": []
   },
   "outputs": [
    {
     "data": {
      "text/plain": [
       "278.6"
      ]
     },
     "execution_count": 142,
     "metadata": {},
     "output_type": "execute_result"
    }
   ],
   "source": [
    "# 5. Run the code to discover the minimum value from the Series?\n",
    "new_numbers.min()"
   ]
  },
  {
   "cell_type": "code",
   "execution_count": 148,
   "id": "c3cf7cac-52d6-4da7-a637-50c14abbd742",
   "metadata": {
    "tags": []
   },
   "outputs": [
    {
     "data": {
      "text/plain": [
       "4789709.57"
      ]
     },
     "execution_count": 148,
     "metadata": {},
     "output_type": "execute_result"
    }
   ],
   "source": [
    "# 6. What is the range of the values in the Series?\n",
    "(new_numbers.max()) - (new_numbers.min())"
   ]
  },
  {
   "cell_type": "code",
   "execution_count": 155,
   "id": "00bbf335-1108-4a6c-a3ca-6c32495d5707",
   "metadata": {
    "tags": []
   },
   "outputs": [
    {
     "data": {
      "text/plain": [
       "0      796459.41\n",
       "1         278.60\n",
       "2      482571.67\n",
       "3     4503915.98\n",
       "4     2121418.30\n",
       "5     1260813.30\n",
       "6       87231.01\n",
       "7     1509175.45\n",
       "8     4138548.00\n",
       "9     2848913.80\n",
       "10     594715.39\n",
       "11    4789988.17\n",
       "12    4513644.50\n",
       "13    3191059.97\n",
       "14    1758712.24\n",
       "15    4338283.54\n",
       "16    4738303.38\n",
       "17    2791759.67\n",
       "18     769681.94\n",
       "19     452650.23\n",
       "dtype: float64"
      ]
     },
     "execution_count": 155,
     "metadata": {},
     "output_type": "execute_result"
    }
   ],
   "source": [
    "new_numbers"
   ]
  },
  {
   "cell_type": "code",
   "execution_count": 149,
   "id": "351fb358-5437-49d7-a06b-df9fd90a165c",
   "metadata": {
    "tags": []
   },
   "outputs": [
    {
     "data": {
      "text/plain": [
       "0        (-4511.11, 1197705.993]\n",
       "1        (-4511.11, 1197705.993]\n",
       "2        (-4511.11, 1197705.993]\n",
       "3      (3592560.778, 4789988.17]\n",
       "4     (1197705.993, 2395133.385]\n",
       "5     (1197705.993, 2395133.385]\n",
       "6        (-4511.11, 1197705.993]\n",
       "7     (1197705.993, 2395133.385]\n",
       "8      (3592560.778, 4789988.17]\n",
       "9     (2395133.385, 3592560.778]\n",
       "10       (-4511.11, 1197705.993]\n",
       "11     (3592560.778, 4789988.17]\n",
       "12     (3592560.778, 4789988.17]\n",
       "13    (2395133.385, 3592560.778]\n",
       "14    (1197705.993, 2395133.385]\n",
       "15     (3592560.778, 4789988.17]\n",
       "16     (3592560.778, 4789988.17]\n",
       "17    (2395133.385, 3592560.778]\n",
       "18       (-4511.11, 1197705.993]\n",
       "19       (-4511.11, 1197705.993]\n",
       "dtype: category\n",
       "Categories (4, interval[float64, right]): [(-4511.11, 1197705.993] < (1197705.993, 2395133.385] < (2395133.385, 3592560.778] < (3592560.778, 4789988.17]]"
      ]
     },
     "execution_count": 149,
     "metadata": {},
     "output_type": "execute_result"
    }
   ],
   "source": [
    "# 7. Bin the data into 4 equally sized intervals or bins and output how many values fall into each bin. \n",
    "pd.cut(new_numbers, bins=4)"
   ]
  },
  {
   "cell_type": "code",
   "execution_count": 153,
   "id": "8d932a7e-034e-47f9-ac33-37655050afcd",
   "metadata": {
    "tags": []
   },
   "outputs": [
    {
     "data": {
      "text/plain": [
       "(-4511.11, 1197705.993]       7\n",
       "(1197705.993, 2395133.385]    4\n",
       "(2395133.385, 3592560.778]    3\n",
       "(3592560.778, 4789988.17]     6\n",
       "dtype: int64"
      ]
     },
     "execution_count": 153,
     "metadata": {},
     "output_type": "execute_result"
    }
   ],
   "source": [
    "plot_numbers = pd.cut(new_numbers, bins=4).value_counts().sort_index()\n",
    "plot_numbers"
   ]
  },
  {
   "cell_type": "code",
   "execution_count": 151,
   "id": "225718df-dbe7-47b3-a7ea-454874d52c7f",
   "metadata": {
    "tags": []
   },
   "outputs": [],
   "source": [
    "# 8. Plot the binned data in a meaningful way. Be sure to include a title and axis lables."
   ]
  },
  {
   "cell_type": "code",
   "execution_count": 162,
   "id": "f117c311-948d-43c5-a49d-b48ae8b01d8b",
   "metadata": {
    "tags": []
   },
   "outputs": [
    {
     "data": {
      "text/plain": [
       "<Axes: >"
      ]
     },
     "execution_count": 162,
     "metadata": {},
     "output_type": "execute_result"
    },
    {
     "data": {
      "image/png": "[encoded data removed]",
      "text/plain": [
       "<Figure size 640x480 with 1 Axes>"
      ]
     },
     "metadata": {},
     "output_type": "display_data"
    }
   ],
   "source": [
    "plot_numbers.plot()"
   ]
  },
  {
   "cell_type": "code",
   "execution_count": 168,
   "id": "8dba642d-5985-4d29-b0e3-db89520b020a",
   "metadata": {
    "tags": []
   },
   "outputs": [
    {
     "data": {
      "text/plain": [
       "[Text(0.5, 0, 'Frequency'), Text(0, 0.5, 'Range')]"
      ]
     },
     "execution_count": 168,
     "metadata": {},
     "output_type": "execute_result"
    },
    {
     "data": {
      "image/png": "[encoded data removed]",
      "text/plain": [
       "<Figure size 640x480 with 1 Axes>"
      ]
     },
     "metadata": {},
     "output_type": "display_data"
    }
   ],
   "source": [
    "plot_numbers.plot.barh( title = 'Numbers from Exercises 3').set( xlabel='Frequency',ylabel='Range')"
   ]
  },
  {
   "cell_type": "markdown",
   "id": "371b6cb2-b0b8-4148-bb8e-b5c54da4cb6d",
   "metadata": {},
   "source": [
    "#### Exercise III C"
   ]
  },
  {
   "cell_type": "code",
   "execution_count": 177,
   "id": "f0cbca3f-0e12-4865-bb6e-f7cc957b5bda",
   "metadata": {
    "tags": []
   },
   "outputs": [
    {
     "data": {
      "text/plain": [
       "0     60\n",
       "1     86\n",
       "2     75\n",
       "3     62\n",
       "4     93\n",
       "5     71\n",
       "6     60\n",
       "7     83\n",
       "8     95\n",
       "9     78\n",
       "10    65\n",
       "11    72\n",
       "12    69\n",
       "13    81\n",
       "14    96\n",
       "15    80\n",
       "16    85\n",
       "17    92\n",
       "18    82\n",
       "19    78\n",
       "dtype: int64"
      ]
     },
     "execution_count": 177,
     "metadata": {},
     "output_type": "execute_result"
    }
   ],
   "source": [
    "scores = [60, 86, 75, 62, 93, 71, 60, 83, 95, 78, 65, 72, 69, 81, 96, 80, 85, 92, 82, 78]\n",
    "exam_scores = pd.Series(scores)\n",
    "exam_scores"
   ]
  },
  {
   "cell_type": "code",
   "execution_count": 170,
   "id": "454c492d-68da-4ee3-b0a0-939781f6371f",
   "metadata": {
    "tags": []
   },
   "outputs": [
    {
     "data": {
      "text/plain": [
       "20"
      ]
     },
     "execution_count": 170,
     "metadata": {},
     "output_type": "execute_result"
    }
   ],
   "source": [
    "# 1. How many elements are in the exam_score Series?\n",
    "exam_scores.size"
   ]
  },
  {
   "cell_type": "code",
   "execution_count": 188,
   "id": "6243bf62-74f0-4680-b347-26b958df3cf0",
   "metadata": {
    "tags": []
   },
   "outputs": [],
   "source": [
    "# 2. Run the code to discover the minimum, the maximum, the mean, and the median scores for the exam_scores Series?"
   ]
  },
  {
   "cell_type": "code",
   "execution_count": 187,
   "id": "d34eb0dc-79ce-426e-8ba7-9cc417b69490",
   "metadata": {
    "tags": []
   },
   "outputs": [
    {
     "data": {
      "text/plain": [
       "count    20.000000\n",
       "mean     78.150000\n",
       "std      11.352139\n",
       "min      60.000000\n",
       "25%      70.500000\n",
       "50%      79.000000\n",
       "75%      85.250000\n",
       "max      96.000000\n",
       "dtype: float64"
      ]
     },
     "execution_count": 187,
     "metadata": {},
     "output_type": "execute_result"
    }
   ],
   "source": [
    "exam_scores.describe()"
   ]
  },
  {
   "cell_type": "code",
   "execution_count": 189,
   "id": "a9ae8be8-2188-41ac-b2ee-60c54a46d42d",
   "metadata": {
    "tags": []
   },
   "outputs": [
    {
     "data": {
      "text/plain": [
       "60"
      ]
     },
     "execution_count": 189,
     "metadata": {},
     "output_type": "execute_result"
    }
   ],
   "source": [
    "exam_scores.min()"
   ]
  },
  {
   "cell_type": "code",
   "execution_count": 190,
   "id": "66c0d397-fbc2-48a1-9650-3fbab27e2b18",
   "metadata": {
    "tags": []
   },
   "outputs": [
    {
     "data": {
      "text/plain": [
       "96"
      ]
     },
     "execution_count": 190,
     "metadata": {},
     "output_type": "execute_result"
    }
   ],
   "source": [
    "exam_scores.max()"
   ]
  },
  {
   "cell_type": "code",
   "execution_count": 191,
   "id": "f2fe7bdb-d382-40da-9ea9-7e1b0587ac3e",
   "metadata": {
    "tags": []
   },
   "outputs": [
    {
     "data": {
      "text/plain": [
       "78.15"
      ]
     },
     "execution_count": 191,
     "metadata": {},
     "output_type": "execute_result"
    }
   ],
   "source": [
    "exam_scores.mean()"
   ]
  },
  {
   "cell_type": "code",
   "execution_count": 192,
   "id": "42a4298e-3dc1-4a5f-a549-08dd49e8df38",
   "metadata": {
    "tags": []
   },
   "outputs": [
    {
     "data": {
      "text/plain": [
       "79.0"
      ]
     },
     "execution_count": 192,
     "metadata": {},
     "output_type": "execute_result"
    }
   ],
   "source": [
    "exam_scores.median()"
   ]
  },
  {
   "cell_type": "code",
   "execution_count": 250,
   "id": "f98d56f0-0b13-4d08-92c8-0f1d434e2cbd",
   "metadata": {
    "tags": []
   },
   "outputs": [
    {
     "data": {
      "image/png": "[encoded data removed]",
      "text/plain": [
       "<Figure size 640x480 with 1 Axes>"
      ]
     },
     "metadata": {},
     "output_type": "display_data"
    }
   ],
   "source": [
    "# 3. Plot the Series in a meaningful way and make sure your chart has a title and axis labels.\n",
    "exam_scores.plot.hist( title = 'Exam Grades' ).set( xlabel = \"Grade\", ylabel = 'Frequency');"
   ]
  },
  {
   "cell_type": "code",
   "execution_count": 214,
   "id": "0b8db9c9-4c04-4399-a11e-892ec40bb0cc",
   "metadata": {
    "tags": []
   },
   "outputs": [
    {
     "data": {
      "text/plain": [
       "0      64\n",
       "1      90\n",
       "2      79\n",
       "3      66\n",
       "4      97\n",
       "5      75\n",
       "6      64\n",
       "7      87\n",
       "8      99\n",
       "9      82\n",
       "10     69\n",
       "11     76\n",
       "12     73\n",
       "13     85\n",
       "14    100\n",
       "15     84\n",
       "16     89\n",
       "17     96\n",
       "18     86\n",
       "19     82\n",
       "dtype: int64"
      ]
     },
     "execution_count": 214,
     "metadata": {},
     "output_type": "execute_result"
    }
   ],
   "source": [
    "# 4. Write the code necessary to implement a curve for your exam_grades Series and save this as curved_grades. \n",
    "# Add the necessary points to the highest grade to make it 100, \n",
    "# and add the same number of points to every other score in the Series as well.\n",
    "\n",
    "curved_grades = exam_scores + 4\n",
    "curved_grades"
   ]
  },
  {
   "cell_type": "code",
   "execution_count": 215,
   "id": "1e66bbdd-d628-481d-a1e4-2a60b8b54ecc",
   "metadata": {
    "tags": []
   },
   "outputs": [],
   "source": [
    "# 5. Use a method to convert each of the numeric values in the curved_grades Series into a categorical value of letter grades. For example, 86 should be a 'B' and 95 should be an 'A'. Save this as a Series named letter_grades.\n",
    "\n",
    "def score(num):\n",
    "    if num >= 90:\n",
    "        return \"A\"\n",
    "    elif num >= 80:\n",
    "        return \"B\"\n",
    "    elif num >= 70:\n",
    "        return \"C\"\n",
    "    else:\n",
    "        return \"F\""
   ]
  },
  {
   "cell_type": "code",
   "execution_count": 218,
   "id": "d104b73f-c90e-4f57-9131-a92b0f17e15d",
   "metadata": {
    "tags": []
   },
   "outputs": [
    {
     "data": {
      "text/plain": [
       "0     F\n",
       "1     A\n",
       "2     C\n",
       "3     F\n",
       "4     A\n",
       "5     C\n",
       "6     F\n",
       "7     B\n",
       "8     A\n",
       "9     B\n",
       "10    F\n",
       "11    C\n",
       "12    C\n",
       "13    B\n",
       "14    A\n",
       "15    B\n",
       "16    B\n",
       "17    A\n",
       "18    B\n",
       "19    B\n",
       "dtype: object"
      ]
     },
     "execution_count": 218,
     "metadata": {},
     "output_type": "execute_result"
    }
   ],
   "source": [
    "letter_grades = curved_grades.apply(score)\n",
    "letter_grades"
   ]
  },
  {
   "cell_type": "code",
   "execution_count": 221,
   "id": "2053116e-65cc-4abd-988f-eb2ca7350d71",
   "metadata": {
    "tags": []
   },
   "outputs": [
    {
     "data": {
      "text/plain": [
       "B    7\n",
       "A    5\n",
       "F    4\n",
       "C    4\n",
       "dtype: int64"
      ]
     },
     "execution_count": 221,
     "metadata": {},
     "output_type": "execute_result"
    }
   ],
   "source": [
    "# 6. Plot your new categorical letter_grades Series in a meaninful way and include a title and axis lable.\n",
    "letter_grades.value_counts()"
   ]
  },
  {
   "cell_type": "code",
   "execution_count": 233,
   "id": "55e542c6-8b7b-468d-82c5-f6758e389f71",
   "metadata": {
    "tags": []
   },
   "outputs": [
    {
     "data": {
      "image/png": "[encoded data removed]",
      "text/plain": [
       "<Figure size 640x480 with 1 Axes>"
      ]
     },
     "metadata": {},
     "output_type": "display_data"
    }
   ],
   "source": [
    "(letter_grades.value_counts().sort_index()).plot.bar(title = 'Curved Grades').set( xlabel = 'Letter Grades', ylabel = 'Frequency');"
   ]
  }
 ],
 "metadata": {
  "kernelspec": {
   "display_name": "Python 3 (ipykernel)",
   "language": "python",
   "name": "python3"
  },
  "language_info": {
   "codemirror_mode": {
    "name": "ipython",
    "version": 3
   },
   "file_extension": ".py",
   "mimetype": "text/x-python",
   "name": "python",
   "nbconvert_exporter": "python",
   "pygments_lexer": "ipython3",
   "version": "3.11.4"
  }
 },
 "nbformat": 4,
 "nbformat_minor": 5
}
