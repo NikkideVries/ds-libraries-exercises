{
 "cells": [
  {
   "cell_type": "markdown",
   "id": "cc6a1df8-fd65-4efb-a575-f1bbca767fa2",
   "metadata": {},
   "source": [
    "#### Exercises Part 1:"
   ]
  },
  {
   "cell_type": "code",
   "execution_count": 13,
   "id": "823b7904-0a0c-4ab9-b10e-3bee24199153",
   "metadata": {
    "tags": []
   },
   "outputs": [],
   "source": [
    "import pandas as pd"
   ]
  },
  {
   "cell_type": "code",
   "execution_count": 1,
   "id": "65cbb72e-1275-4fb8-9cbe-5982ff0a6503",
   "metadata": {
    "tags": []
   },
   "outputs": [],
   "source": [
    "my_list = [\"kiwi\", \"mango\", \"strawberry\", \"pineapple\", \"gala apple\", \"honeycrisp apple\", \"tomato\", \"watermelon\", \"honeydew\", \"kiwi\", \"kiwi\", \"kiwi\", \"mango\", \"blueberry\", \"blackberry\", \"gooseberry\", \"papaya\"]"
   ]
  },
  {
   "cell_type": "code",
   "execution_count": 48,
   "id": "cc7eaed3-eb9b-4db1-bf0c-63baa20e0342",
   "metadata": {
    "tags": []
   },
   "outputs": [],
   "source": [
    "fruits = pd.Series(my_list)"
   ]
  },
  {
   "cell_type": "code",
   "execution_count": 49,
   "id": "1ea4e41b-61aa-4fd6-b38a-8b2c54b05426",
   "metadata": {
    "tags": []
   },
   "outputs": [
    {
     "data": {
      "text/plain": [
       "17"
      ]
     },
     "execution_count": 49,
     "metadata": {},
     "output_type": "execute_result"
    }
   ],
   "source": [
    "# 1. Determine the number of elements in fruits\n",
    "fruits.count()"
   ]
  },
  {
   "cell_type": "code",
   "execution_count": 52,
   "id": "c3c878e1-4010-4890-bdca-83298482cb07",
   "metadata": {
    "tags": []
   },
   "outputs": [
    {
     "data": {
      "text/plain": [
       "17"
      ]
     },
     "execution_count": 52,
     "metadata": {},
     "output_type": "execute_result"
    }
   ],
   "source": [
    "fruits.size"
   ]
  },
  {
   "cell_type": "code",
   "execution_count": 10,
   "id": "0fdea3cd-2409-4389-bbab-282c88169829",
   "metadata": {
    "tags": []
   },
   "outputs": [
    {
     "data": {
      "text/plain": [
       "RangeIndex(start=0, stop=17, step=1)"
      ]
     },
     "execution_count": 10,
     "metadata": {},
     "output_type": "execute_result"
    }
   ],
   "source": [
    "# 2. Ouput only the index from fruits\n",
    "fruits.index"
   ]
  },
  {
   "cell_type": "code",
   "execution_count": 11,
   "id": "5313bd26-da2e-487e-b867-2dd39cf37834",
   "metadata": {
    "tags": []
   },
   "outputs": [
    {
     "data": {
      "text/plain": [
       "array(['kiwi', 'mango', 'strawberry', 'pineapple', 'gala apple',\n",
       "       'honeycrisp apple', 'tomato', 'watermelon', 'honeydew', 'kiwi',\n",
       "       'kiwi', 'kiwi', 'mango', 'blueberry', 'blackberry', 'gooseberry',\n",
       "       'papaya'], dtype=object)"
      ]
     },
     "execution_count": 11,
     "metadata": {},
     "output_type": "execute_result"
    }
   ],
   "source": [
    "# 3. Output only the values from fruits\n",
    "fruits.values"
   ]
  },
  {
   "cell_type": "code",
   "execution_count": 53,
   "id": "d04a7df1-eee4-4472-9fef-a1d39cd28b30",
   "metadata": {
    "tags": []
   },
   "outputs": [
    {
     "data": {
      "text/plain": [
       "dtype('O')"
      ]
     },
     "execution_count": 53,
     "metadata": {},
     "output_type": "execute_result"
    }
   ],
   "source": [
    "# 4. Confirm the data type of the values in fruits\n",
    "# O is object\n",
    "fruits.dtypes"
   ]
  },
  {
   "cell_type": "code",
   "execution_count": 54,
   "id": "bd5f04d5-ba72-422b-b27b-bef838847303",
   "metadata": {
    "tags": []
   },
   "outputs": [
    {
     "data": {
      "text/plain": [
       "0          kiwi\n",
       "1         mango\n",
       "2    strawberry\n",
       "3     pineapple\n",
       "4    gala apple\n",
       "dtype: object"
      ]
     },
     "execution_count": 54,
     "metadata": {},
     "output_type": "execute_result"
    }
   ],
   "source": [
    "# 5. Output only the first five values from fruits. Output the last three values. Output two random values from fruits.\n",
    "fruits.head(5)"
   ]
  },
  {
   "cell_type": "code",
   "execution_count": 55,
   "id": "1d1bd42c-6f08-405a-a33a-ba34ee7c53d2",
   "metadata": {
    "tags": []
   },
   "outputs": [
    {
     "data": {
      "text/plain": [
       "14    blackberry\n",
       "15    gooseberry\n",
       "16        papaya\n",
       "dtype: object"
      ]
     },
     "execution_count": 55,
     "metadata": {},
     "output_type": "execute_result"
    }
   ],
   "source": [
    "fruits.tail(3)"
   ]
  },
  {
   "cell_type": "code",
   "execution_count": 56,
   "id": "c4f67bfb-df02-4b6a-a62d-6803618ea9cf",
   "metadata": {
    "tags": []
   },
   "outputs": [
    {
     "data": {
      "text/plain": [
       "0       kiwi\n",
       "16    papaya\n",
       "dtype: object"
      ]
     },
     "execution_count": 56,
     "metadata": {},
     "output_type": "execute_result"
    }
   ],
   "source": [
    "fruits.sample(2)"
   ]
  },
  {
   "cell_type": "code",
   "execution_count": 24,
   "id": "fc52bdcf-ef50-4fa1-bcb0-22a7724d4625",
   "metadata": {
    "tags": []
   },
   "outputs": [
    {
     "data": {
      "text/plain": [
       "count       17\n",
       "unique      13\n",
       "top       kiwi\n",
       "freq         4\n",
       "dtype: object"
      ]
     },
     "execution_count": 24,
     "metadata": {},
     "output_type": "execute_result"
    }
   ],
   "source": [
    "# Run the .describe() on fruits to see what information it returns when called on a Series with string values.\n",
    "fruits.describe()"
   ]
  },
  {
   "cell_type": "code",
   "execution_count": 57,
   "id": "344dc11d-8f6a-4cc4-af77-320c91801dcd",
   "metadata": {
    "tags": []
   },
   "outputs": [
    {
     "data": {
      "text/plain": [
       "kiwi                4\n",
       "mango               2\n",
       "strawberry          1\n",
       "pineapple           1\n",
       "gala apple          1\n",
       "honeycrisp apple    1\n",
       "tomato              1\n",
       "watermelon          1\n",
       "honeydew            1\n",
       "blueberry           1\n",
       "blackberry          1\n",
       "gooseberry          1\n",
       "papaya              1\n",
       "dtype: int64"
      ]
     },
     "execution_count": 57,
     "metadata": {},
     "output_type": "execute_result"
    }
   ],
   "source": [
    "# 7. Run the code necessary to produce only the unique string values from fruits.\n",
    "fruits.value_counts()"
   ]
  },
  {
   "cell_type": "code",
   "execution_count": 58,
   "id": "de633f27-161d-4a92-a3ac-af9a3db30b97",
   "metadata": {
    "tags": []
   },
   "outputs": [
    {
     "data": {
      "text/plain": [
       "array(['kiwi', 'mango', 'strawberry', 'pineapple', 'gala apple',\n",
       "       'honeycrisp apple', 'tomato', 'watermelon', 'honeydew',\n",
       "       'blueberry', 'blackberry', 'gooseberry', 'papaya'], dtype=object)"
      ]
     },
     "execution_count": 58,
     "metadata": {},
     "output_type": "execute_result"
    }
   ],
   "source": [
    "fruits.unique()"
   ]
  },
  {
   "cell_type": "code",
   "execution_count": 59,
   "id": "62bf227d-7656-42b4-9376-afecead45d3b",
   "metadata": {
    "tags": []
   },
   "outputs": [
    {
     "data": {
      "text/plain": [
       "kiwi                4\n",
       "mango               2\n",
       "strawberry          1\n",
       "pineapple           1\n",
       "gala apple          1\n",
       "honeycrisp apple    1\n",
       "tomato              1\n",
       "watermelon          1\n",
       "honeydew            1\n",
       "blueberry           1\n",
       "blackberry          1\n",
       "gooseberry          1\n",
       "papaya              1\n",
       "dtype: int64"
      ]
     },
     "execution_count": 59,
     "metadata": {},
     "output_type": "execute_result"
    }
   ],
   "source": [
    "# 8. Determine how many times each unique string value occurs in fruits.\n",
    "fruits.value_counts()"
   ]
  },
  {
   "cell_type": "code",
   "execution_count": 60,
   "id": "59ba3dff-05c6-444d-9cc0-ac7c36b6acbf",
   "metadata": {
    "tags": []
   },
   "outputs": [
    {
     "name": "stdout",
     "output_type": "stream",
     "text": [
      "kiwi\n"
     ]
    }
   ],
   "source": [
    "# 9. Determine the string value that occurs most frequently in fruits.\n",
    "most = fruits.value_counts()\n",
    "print(most.index[0])"
   ]
  },
  {
   "cell_type": "code",
   "execution_count": 61,
   "id": "9c9c6023-8813-46a1-9020-8bb78d5d7abd",
   "metadata": {
    "tags": []
   },
   "outputs": [
    {
     "data": {
      "text/plain": [
       "kiwi    4\n",
       "dtype: int64"
      ]
     },
     "execution_count": 61,
     "metadata": {},
     "output_type": "execute_result"
    }
   ],
   "source": [
    "fruits.value_counts().nlargest(1)"
   ]
  },
  {
   "cell_type": "code",
   "execution_count": 62,
   "id": "b71c1c44-fa08-4fce-a425-06a31492b338",
   "metadata": {
    "tags": []
   },
   "outputs": [
    {
     "name": "stdout",
     "output_type": "stream",
     "text": [
      "papaya\n"
     ]
    }
   ],
   "source": [
    "# 10. Determine the string value that occurs least frequently in fruits.\n",
    "least = fruits.value_counts()\n",
    "print(least.index[-1])"
   ]
  },
  {
   "cell_type": "code",
   "execution_count": 64,
   "id": "34a7ec92-8bef-4e97-8f3d-a1dca4def171",
   "metadata": {
    "tags": []
   },
   "outputs": [
    {
     "data": {
      "text/plain": [
       "strawberry          1\n",
       "pineapple           1\n",
       "gala apple          1\n",
       "honeycrisp apple    1\n",
       "tomato              1\n",
       "watermelon          1\n",
       "honeydew            1\n",
       "blueberry           1\n",
       "blackberry          1\n",
       "gooseberry          1\n",
       "papaya              1\n",
       "dtype: int64"
      ]
     },
     "execution_count": 64,
     "metadata": {},
     "output_type": "execute_result"
    }
   ],
   "source": [
    "fruits.value_counts().nsmallest(keep = 'all')"
   ]
  },
  {
   "cell_type": "markdown",
   "id": "fadcbad3-be6f-40ac-b85b-50ce35d2749b",
   "metadata": {},
   "source": [
    "#### Exercises Part II"
   ]
  },
  {
   "cell_type": "code",
   "execution_count": 67,
   "id": "ed740f7e-9765-4dd9-b122-097b6ba6f81d",
   "metadata": {
    "tags": []
   },
   "outputs": [
    {
     "data": {
      "text/plain": [
       "0                 Kiwi\n",
       "1                Mango\n",
       "2           Strawberry\n",
       "3            Pineapple\n",
       "4           Gala apple\n",
       "5     Honeycrisp apple\n",
       "6               Tomato\n",
       "7           Watermelon\n",
       "8             Honeydew\n",
       "9                 Kiwi\n",
       "10                Kiwi\n",
       "11                Kiwi\n",
       "12               Mango\n",
       "13           Blueberry\n",
       "14          Blackberry\n",
       "15          Gooseberry\n",
       "16              Papaya\n",
       "dtype: object"
      ]
     },
     "execution_count": 67,
     "metadata": {},
     "output_type": "execute_result"
    }
   ],
   "source": [
    "# 1. Capitalize all the string values in fruits\n",
    "fruits.str.capitalize()"
   ]
  },
  {
   "cell_type": "code",
   "execution_count": 69,
   "id": "ecd5db06-06c7-44b8-b623-e8633417ea99",
   "metadata": {
    "tags": []
   },
   "outputs": [
    {
     "data": {
      "text/plain": [
       "14"
      ]
     },
     "execution_count": 69,
     "metadata": {},
     "output_type": "execute_result"
    }
   ],
   "source": [
    "# 2. Count the letter 'a' in all the string values(use string vectorization)\n",
    "fruits.str.count('a').sum()"
   ]
  },
  {
   "cell_type": "code",
   "execution_count": 96,
   "id": "1b5e8823-189f-482b-a94c-ea42f62b73fd",
   "metadata": {
    "tags": []
   },
   "outputs": [
    {
     "data": {
      "text/plain": [
       "2          strawberry\n",
       "2          strawberry\n",
       "2          strawberry\n",
       "4          gala apple\n",
       "4          gala apple\n",
       "5    honeycrisp apple\n",
       "3           pineapple\n",
       "4          gala apple\n",
       "3           pineapple\n",
       "2          strawberry\n",
       "2          strawberry\n",
       "2          strawberry\n",
       "2          strawberry\n",
       "3           pineapple\n",
       "2          strawberry\n",
       "4          gala apple\n",
       "3           pineapple\n",
       "dtype: object"
      ]
     },
     "execution_count": 96,
     "metadata": {},
     "output_type": "execute_result"
    }
   ],
   "source": [
    "# 3. Output the number of vowels in each and every string value.\n",
    "def count_vowels(string):\n",
    "    vowels = 'AEIOUaeiou'\n",
    "    vowels_count = sum(1 for char in string if char in vowels)\n",
    "    return vowels_count\n",
    "\n",
    "fruits[fruits.apply(count_vowels)]"
   ]
  },
  {
   "cell_type": "code",
   "execution_count": 111,
   "id": "67e3130d-df00-48f8-a390-cf1789d82671",
   "metadata": {
    "tags": []
   },
   "outputs": [
    {
     "data": {
      "text/plain": [
       "5    honeycrisp apple\n",
       "dtype: object"
      ]
     },
     "execution_count": 111,
     "metadata": {},
     "output_type": "execute_result"
    }
   ],
   "source": [
    "# 4. Write the code to get the longest string value from fruits.\n",
    "# longest string value\n",
    "fruits.apply(lambda x: len(x)).max()\n",
    "#hard coding the value\n",
    "fruits[fruits.str.len() >= 16]"
   ]
  },
  {
   "cell_type": "code",
   "execution_count": 109,
   "id": "ab0324e9-631f-4f14-b88d-235bdcd83b4b",
   "metadata": {
    "tags": []
   },
   "outputs": [
    {
     "data": {
      "text/plain": [
       "'honeycrisp apple'"
      ]
     },
     "execution_count": 109,
     "metadata": {},
     "output_type": "execute_result"
    }
   ],
   "source": [
    "# not hardcoding the value\n",
    "max(fruits, key=len)"
   ]
  },
  {
   "cell_type": "code",
   "execution_count": 92,
   "id": "7995a1fe-8f38-4038-a81d-8a1c45158511",
   "metadata": {
    "tags": []
   },
   "outputs": [
    {
     "data": {
      "text/plain": [
       "1                mango\n",
       "2           strawberry\n",
       "3            pineapple\n",
       "4           gala apple\n",
       "5     honeycrisp apple\n",
       "6               tomato\n",
       "7           watermelon\n",
       "8             honeydew\n",
       "12               mango\n",
       "13           blueberry\n",
       "14          blackberry\n",
       "15          gooseberry\n",
       "16              papaya\n",
       "dtype: object"
      ]
     },
     "execution_count": 92,
     "metadata": {},
     "output_type": "execute_result"
    }
   ],
   "source": [
    "# 5. Write the code to get the string values with 5 or more letters in the name.\n",
    "fruits[fruits.str.len() >= 5]"
   ]
  },
  {
   "cell_type": "code",
   "execution_count": 74,
   "id": "ef3e2625-f24c-47eb-97e5-0e03b978e18d",
   "metadata": {
    "tags": []
   },
   "outputs": [],
   "source": [
    "# 6. Find the fruit(s) containing the letter \"o\" two or more times."
   ]
  },
  {
   "cell_type": "code",
   "execution_count": 75,
   "id": "b0023903-03b1-4395-a558-6c955b576974",
   "metadata": {
    "tags": []
   },
   "outputs": [],
   "source": [
    "# 7. Write the code to get only the string values containing the substring \"berry\"."
   ]
  },
  {
   "cell_type": "code",
   "execution_count": 76,
   "id": "0a79d63f-a509-4165-9e36-505e04abfae9",
   "metadata": {
    "tags": []
   },
   "outputs": [],
   "source": [
    "# 8. Write the code to get only the string values containing the substring \"apple\"."
   ]
  },
  {
   "cell_type": "code",
   "execution_count": 77,
   "id": "6a51f5ea-7bb2-44ef-82b8-7a263b11977b",
   "metadata": {
    "tags": []
   },
   "outputs": [],
   "source": [
    "# 9. Which string value contains the most vowels?"
   ]
  },
  {
   "cell_type": "markdown",
   "id": "dd947152-dd2a-4e52-985e-0b9539a3ecf9",
   "metadata": {},
   "source": [
    "#### Exercises Part III"
   ]
  },
  {
   "cell_type": "code",
   "execution_count": null,
   "id": "e276ad45-dc12-4575-9551-731c924f042e",
   "metadata": {},
   "outputs": [],
   "source": []
  }
 ],
 "metadata": {
  "kernelspec": {
   "display_name": "Python 3 (ipykernel)",
   "language": "python",
   "name": "python3"
  },
  "language_info": {
   "codemirror_mode": {
    "name": "ipython",
    "version": 3
   },
   "file_extension": ".py",
   "mimetype": "text/x-python",
   "name": "python",
   "nbconvert_exporter": "python",
   "pygments_lexer": "ipython3",
   "version": "3.11.4"
  }
 },
 "nbformat": 4,
 "nbformat_minor": 5
}
