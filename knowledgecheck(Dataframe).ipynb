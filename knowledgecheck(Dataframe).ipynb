{
 "cells": [
  {
   "cell_type": "code",
   "execution_count": 5,
   "id": "b23cb0ef-beeb-42b3-a63a-a1b97e258e71",
   "metadata": {
    "tags": []
   },
   "outputs": [],
   "source": [
    "import pandas as pd"
   ]
  },
  {
   "cell_type": "code",
   "execution_count": 7,
   "id": "8bea6fa8-8cba-4cac-9c12-63470b4fd2eb",
   "metadata": {
    "tags": []
   },
   "outputs": [],
   "source": [
    "name = 'nikki'\n",
    "name_list = pd.Series(list(name))"
   ]
  },
  {
   "cell_type": "code",
   "execution_count": 8,
   "id": "2bfa922d-6247-4b1b-8f02-136d15958fa3",
   "metadata": {
    "tags": []
   },
   "outputs": [
    {
     "data": {
      "text/plain": [
       "0    n\n",
       "1    i\n",
       "2    k\n",
       "3    k\n",
       "4    i\n",
       "dtype: object"
      ]
     },
     "execution_count": 8,
     "metadata": {},
     "output_type": "execute_result"
    }
   ],
   "source": [
    "name_list"
   ]
  },
  {
   "cell_type": "code",
   "execution_count": 29,
   "id": "1ea949d4-aa71-4cd0-8ee8-cdf620599b3a",
   "metadata": {
    "tags": []
   },
   "outputs": [],
   "source": [
    "def remove_consnants(char):\n",
    "    vowels = 'AEIOUaeiou'\n",
    "    return char in vowels "
   ]
  },
  {
   "cell_type": "code",
   "execution_count": 31,
   "id": "8ada6968-317b-4a28-95e8-d2c3c6e1edf8",
   "metadata": {
    "tags": []
   },
   "outputs": [
    {
     "data": {
      "text/plain": [
       "0    False\n",
       "1     True\n",
       "2    False\n",
       "3    False\n",
       "4     True\n",
       "dtype: bool"
      ]
     },
     "execution_count": 31,
     "metadata": {},
     "output_type": "execute_result"
    }
   ],
   "source": [
    "name_list.apply(remove_consnants)"
   ]
  },
  {
   "cell_type": "code",
   "execution_count": 34,
   "id": "f164ba3e-6535-42b2-b991-386060b6a97a",
   "metadata": {
    "tags": []
   },
   "outputs": [
    {
     "data": {
      "text/plain": [
       "0    False\n",
       "1     True\n",
       "2    False\n",
       "3    False\n",
       "4     True\n",
       "dtype: bool"
      ]
     },
     "execution_count": 34,
     "metadata": {},
     "output_type": "execute_result"
    }
   ],
   "source": [
    "name_list.str.contains(r'[aeiou]')"
   ]
  },
  {
   "cell_type": "code",
   "execution_count": 39,
   "id": "687f5384-dbd1-449a-bf25-83a8ee2e8358",
   "metadata": {
    "tags": []
   },
   "outputs": [
    {
     "data": {
      "text/plain": [
       "['a', 'e', 'i', 'o', 'u']"
      ]
     },
     "execution_count": 39,
     "metadata": {},
     "output_type": "execute_result"
    }
   ],
   "source": [
    "list('aeiou')"
   ]
  },
  {
   "cell_type": "code",
   "execution_count": 41,
   "id": "9e88583b-1c80-40dd-b43e-6ac3538698fc",
   "metadata": {
    "tags": []
   },
   "outputs": [
    {
     "data": {
      "text/plain": [
       "0    False\n",
       "1     True\n",
       "2    False\n",
       "3    False\n",
       "4     True\n",
       "dtype: bool"
      ]
     },
     "execution_count": 41,
     "metadata": {},
     "output_type": "execute_result"
    }
   ],
   "source": [
    "mask = name_list.str.lower().isin(list('aeiou'))\n",
    "mask"
   ]
  },
  {
   "cell_type": "code",
   "execution_count": 42,
   "id": "5dddeb86-fcba-42cb-96a6-4012f0bfd0cc",
   "metadata": {
    "tags": []
   },
   "outputs": [
    {
     "data": {
      "text/plain": [
       "1    i\n",
       "4    i\n",
       "dtype: object"
      ]
     },
     "execution_count": 42,
     "metadata": {},
     "output_type": "execute_result"
    }
   ],
   "source": [
    "name_list[mask]"
   ]
  }
 ],
 "metadata": {
  "kernelspec": {
   "display_name": "Python 3 (ipykernel)",
   "language": "python",
   "name": "python3"
  },
  "language_info": {
   "codemirror_mode": {
    "name": "ipython",
    "version": 3
   },
   "file_extension": ".py",
   "mimetype": "text/x-python",
   "name": "python",
   "nbconvert_exporter": "python",
   "pygments_lexer": "ipython3",
   "version": "3.11.4"
  }
 },
 "nbformat": 4,
 "nbformat_minor": 5
}
