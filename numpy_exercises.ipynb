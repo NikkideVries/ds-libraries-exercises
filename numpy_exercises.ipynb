{
 "cells": [
  {
   "cell_type": "markdown",
   "id": "c2f22f1b-c314-4f7c-b257-d6dabe3626b7",
   "metadata": {},
   "source": [
    "##### Numpy Exercises\n",
    "1. How many negative numbers are there?\n",
    "2. How many positive numbers are there?\n",
    "3. How many even positive numbers are there?\n",
    "4. If you were to add 3 to each data point, how many positive numbers would there be?\n",
    "5. If you squared each number, what would the new mean and standard deviation be?\n",
    "6. A common statistical operation on a dataset is centering. This means to adjust the data such that the mean of the data is 0. This is done by subtracting the mean from each data point. Center the data set. See this link for more on centering.\n",
    "7. Calculate the z-score for each data point. Recall that the z-score is given by:\n",
    "\n",
    "        z = (x-μ) / σ\n",
    "        or \n",
    "        z = (observed value - mean of the sample) /\n",
    "            standard deviation of the samlpe\n",
    "\n",
    "8. Copy the setup and exercise directions from More Numpy Practice into your numpy_exercises.py and add your solutions."
   ]
  },
  {
   "cell_type": "code",
   "execution_count": 111,
   "id": "1cd52e77-6b07-4685-a431-85992187cdf2",
   "metadata": {
    "tags": []
   },
   "outputs": [
    {
     "name": "stdout",
     "output_type": "stream",
     "text": [
      "12\n"
     ]
    }
   ],
   "source": [
    "import numpy as np\n",
    "a = np.array([4, 10, 12, 23, -2, -1, 0, 0, 0, -6, 3, -7])\n",
    "print(len(a))"
   ]
  },
  {
   "cell_type": "markdown",
   "id": "04837d14-64eb-4078-8d27-16dee5717650",
   "metadata": {},
   "source": [
    "Question 1: How many negative numbers are there?"
   ]
  },
  {
   "cell_type": "code",
   "execution_count": 14,
   "id": "a94c6e1a-35f9-49a2-8cb5-1476cd663960",
   "metadata": {
    "tags": []
   },
   "outputs": [
    {
     "data": {
      "text/plain": [
       "array([False, False, False, False,  True,  True, False, False, False,\n",
       "        True, False,  True])"
      ]
     },
     "execution_count": 14,
     "metadata": {},
     "output_type": "execute_result"
    }
   ],
   "source": [
    "a < 0"
   ]
  },
  {
   "cell_type": "code",
   "execution_count": 13,
   "id": "719e3c03-7618-47d2-a41a-ef78dfd30e6d",
   "metadata": {
    "tags": []
   },
   "outputs": [
    {
     "name": "stdout",
     "output_type": "stream",
     "text": [
      "4\n"
     ]
    }
   ],
   "source": [
    "# np.count_nonzero gives the number of True, i.e. number of elements that satisy the condition.\n",
    "print(np.count_nonzero(a < 0))"
   ]
  },
  {
   "cell_type": "code",
   "execution_count": 114,
   "id": "97f303ac-c523-4447-a40d-833c17f79bca",
   "metadata": {
    "tags": []
   },
   "outputs": [
    {
     "data": {
      "text/plain": [
       "4"
      ]
     },
     "execution_count": 114,
     "metadata": {},
     "output_type": "execute_result"
    }
   ],
   "source": [
    "# counts the numbers of Trues\n",
    "(a < 0).sum()"
   ]
  },
  {
   "cell_type": "markdown",
   "id": "ad2d2234-a946-499d-b9b9-e573e4cde729",
   "metadata": {},
   "source": [
    "Question 2: How many positive numbers are there?"
   ]
  },
  {
   "cell_type": "code",
   "execution_count": 15,
   "id": "c58db063-1979-4f9c-97ee-78933c815bbc",
   "metadata": {
    "tags": []
   },
   "outputs": [
    {
     "data": {
      "text/plain": [
       "array([ True,  True,  True,  True, False, False,  True,  True,  True,\n",
       "       False,  True, False])"
      ]
     },
     "execution_count": 15,
     "metadata": {},
     "output_type": "execute_result"
    }
   ],
   "source": [
    "a >= 0"
   ]
  },
  {
   "cell_type": "code",
   "execution_count": 17,
   "id": "eed6b1d7-e335-4a06-af5c-f0b6137c8373",
   "metadata": {
    "tags": []
   },
   "outputs": [
    {
     "name": "stdout",
     "output_type": "stream",
     "text": [
      "8\n"
     ]
    }
   ],
   "source": [
    "print(np.count_nonzero(a >= 0))"
   ]
  },
  {
   "cell_type": "markdown",
   "id": "30b17193-f264-4a75-ae97-fd28b999f139",
   "metadata": {},
   "source": [
    "Question 3. How many even positive numbers are there?"
   ]
  },
  {
   "cell_type": "code",
   "execution_count": 25,
   "id": "0c35f77e-3f9a-4483-8839-25041cfa238f",
   "metadata": {
    "tags": []
   },
   "outputs": [
    {
     "data": {
      "text/plain": [
       "array([ 4, 10, 12, -2,  0,  0,  0, -6])"
      ]
     },
     "execution_count": 25,
     "metadata": {},
     "output_type": "execute_result"
    }
   ],
   "source": [
    "even_numbers = a[a % 2 == 0]\n",
    "even_numbers"
   ]
  },
  {
   "cell_type": "code",
   "execution_count": 28,
   "id": "401a1ef3-161e-40d3-bc43-ac7a1ee4470a",
   "metadata": {
    "tags": []
   },
   "outputs": [
    {
     "name": "stdout",
     "output_type": "stream",
     "text": [
      "3\n"
     ]
    }
   ],
   "source": [
    "print(np.count_nonzero(even_numbers > 0))"
   ]
  },
  {
   "cell_type": "code",
   "execution_count": 120,
   "id": "4e25410e-5f39-4f1b-ba2c-b1693f88bc95",
   "metadata": {
    "tags": []
   },
   "outputs": [
    {
     "data": {
      "text/plain": [
       "3"
      ]
     },
     "execution_count": 120,
     "metadata": {},
     "output_type": "execute_result"
    }
   ],
   "source": [
    "len(a[(a > 0) & (a % 2 == 0)])"
   ]
  },
  {
   "cell_type": "markdown",
   "id": "ab25bcb8-d03e-474a-9d16-52288def9a49",
   "metadata": {},
   "source": [
    "Question 4: If you were to add 3 to each data point, how many positive numbers would be there "
   ]
  },
  {
   "cell_type": "code",
   "execution_count": 33,
   "id": "67876642-2729-4b56-a278-7f2b3bafd112",
   "metadata": {
    "tags": []
   },
   "outputs": [
    {
     "data": {
      "text/plain": [
       "array([ 7, 13, 15, 26,  1,  2,  3,  3,  3, -3,  6, -4])"
      ]
     },
     "execution_count": 33,
     "metadata": {},
     "output_type": "execute_result"
    }
   ],
   "source": [
    "add_a = a + 3\n",
    "add_a"
   ]
  },
  {
   "cell_type": "code",
   "execution_count": 34,
   "id": "5b3ce092-a335-42af-b898-babfa76191ea",
   "metadata": {
    "tags": []
   },
   "outputs": [
    {
     "name": "stdout",
     "output_type": "stream",
     "text": [
      "10\n"
     ]
    }
   ],
   "source": [
    "print(np.count_nonzero(add_a >= 0))"
   ]
  },
  {
   "cell_type": "code",
   "execution_count": 122,
   "id": "c177c37d-31c5-4ecc-a965-ff2b65f2a923",
   "metadata": {
    "tags": []
   },
   "outputs": [
    {
     "data": {
      "text/plain": [
       "10"
      ]
     },
     "execution_count": 122,
     "metadata": {},
     "output_type": "execute_result"
    }
   ],
   "source": [
    "((a + 3) > 0).sum()"
   ]
  },
  {
   "cell_type": "markdown",
   "id": "28ff2334-bdf6-4e6c-ac6d-919ac2ca1fb1",
   "metadata": {},
   "source": [
    "Question 5: If you squared each number, what would the new mean and standard deviation be?"
   ]
  },
  {
   "cell_type": "code",
   "execution_count": 41,
   "id": "9ce1489d-7cbc-44e6-b0bc-33ae3203643d",
   "metadata": {
    "tags": []
   },
   "outputs": [
    {
     "data": {
      "text/plain": [
       "array([ 16, 100, 144, 529,   4,   1,   0,   0,   0,  36,   9,  49])"
      ]
     },
     "execution_count": 41,
     "metadata": {},
     "output_type": "execute_result"
    }
   ],
   "source": [
    "square_a = a ** 2\n",
    "square_a"
   ]
  },
  {
   "cell_type": "code",
   "execution_count": 42,
   "id": "aaed1418-fae0-44e5-ba02-3ec91211218f",
   "metadata": {
    "tags": []
   },
   "outputs": [
    {
     "data": {
      "text/plain": [
       "144.0243035046516"
      ]
     },
     "execution_count": 42,
     "metadata": {},
     "output_type": "execute_result"
    }
   ],
   "source": [
    "square_a.std()"
   ]
  },
  {
   "cell_type": "markdown",
   "id": "d61ac3c0-aa6b-45c8-a783-ed8dfd257fff",
   "metadata": {},
   "source": [
    "Question 6: A common statistical operation on a dataset is centering. This means to adjust the data such that the mean of the data is 0. This is done by subtracting the mean from each data point. Center the data set. \n",
    "\n"
   ]
  },
  {
   "cell_type": "code",
   "execution_count": 43,
   "id": "7c6b17dc-d408-48b0-aa04-2d179439fa53",
   "metadata": {
    "tags": []
   },
   "outputs": [
    {
     "data": {
      "text/plain": [
       "3.0"
      ]
     },
     "execution_count": 43,
     "metadata": {},
     "output_type": "execute_result"
    }
   ],
   "source": [
    "# get the mean:\n",
    "mean = np.mean(a)\n",
    "mean"
   ]
  },
  {
   "cell_type": "code",
   "execution_count": 46,
   "id": "760cfe01-6f66-40a2-8a22-5d2ed95f6705",
   "metadata": {
    "tags": []
   },
   "outputs": [
    {
     "data": {
      "text/plain": [
       "array([  1.,   7.,   9.,  20.,  -5.,  -4.,  -3.,  -3.,  -3.,  -9.,   0.,\n",
       "       -10.])"
      ]
     },
     "execution_count": 46,
     "metadata": {},
     "output_type": "execute_result"
    }
   ],
   "source": [
    "# center the data:\n",
    "centered_data = a - mean\n",
    "centered_data"
   ]
  },
  {
   "cell_type": "code",
   "execution_count": 47,
   "id": "a3618fba-a8f8-4858-9f89-1c3cef8ff59b",
   "metadata": {
    "tags": []
   },
   "outputs": [
    {
     "data": {
      "text/plain": [
       "0.0"
      ]
     },
     "execution_count": 47,
     "metadata": {},
     "output_type": "execute_result"
    }
   ],
   "source": [
    "np.mean(centered_data)"
   ]
  },
  {
   "cell_type": "markdown",
   "id": "a6f0452e-b8dd-453c-96f3-9f87cfd6fbcf",
   "metadata": {},
   "source": [
    "Question 7: Calculate the z-score for each data point. Recall that the z-score is given by:\n",
    "        \n",
    "        z = (x-μ) / σ\n",
    "        or \n",
    "        z = (observed value - mean of the sample) /\n",
    "            standard deviation of the samlpe\n",
    "              "
   ]
  },
  {
   "cell_type": "code",
   "execution_count": 50,
   "id": "46269378-a560-46f7-ab36-9c5f163d7f27",
   "metadata": {
    "tags": []
   },
   "outputs": [
    {
     "name": "stdout",
     "output_type": "stream",
     "text": [
      "[ 0.12403473  0.86824314  1.11631261  2.48069469 -0.62017367 -0.49613894\n",
      " -0.3721042  -0.3721042  -0.3721042  -1.11631261  0.         -1.24034735]\n"
     ]
    }
   ],
   "source": [
    "z_score = (a - mean) / (a.std())\n",
    "print(z_score)"
   ]
  },
  {
   "cell_type": "markdown",
   "id": "554b8c5d-a7af-49a8-bb63-6b6222f27cae",
   "metadata": {},
   "source": [
    "#### Question 8: \n",
    "Copy the setup and exercise directions from More Numpy Practice into your numpy_exercises.py and add your solutions."
   ]
  },
  {
   "cell_type": "markdown",
   "id": "73d08afb-dc13-4054-a954-9881159664cb",
   "metadata": {},
   "source": [
    "### Setup 1"
   ]
  },
  {
   "cell_type": "code",
   "execution_count": 162,
   "id": "5a98b7c3-0b2e-4a83-a74d-f48bc73bd254",
   "metadata": {
    "tags": []
   },
   "outputs": [],
   "source": [
    "a = [1, 2, 3, 4, 5, 6, 7, 8, 9, 10]\n",
    "a = np.array([1, 2, 3, 4, 5, 6, 7, 8, 9, 10])"
   ]
  },
  {
   "cell_type": "code",
   "execution_count": 77,
   "id": "79de3ea7-16ac-4fe9-aa84-50c865a8c426",
   "metadata": {
    "tags": []
   },
   "outputs": [
    {
     "data": {
      "text/plain": [
       "55"
      ]
     },
     "execution_count": 77,
     "metadata": {},
     "output_type": "execute_result"
    }
   ],
   "source": [
    "#Exercise 1 - Make a variable called sum_of_a to hold the sum of all the numbers in above list\n",
    "sum_of_a = sum(a)\n",
    "sum_of_a"
   ]
  },
  {
   "cell_type": "code",
   "execution_count": 78,
   "id": "4600f5b4-d55d-4229-8ecf-6e2edc1160ce",
   "metadata": {
    "tags": []
   },
   "outputs": [
    {
     "data": {
      "text/plain": [
       "1"
      ]
     },
     "execution_count": 78,
     "metadata": {},
     "output_type": "execute_result"
    }
   ],
   "source": [
    "#Exercise 2 - Make a variable named min_of_a to hold the minimum of all the numbers in the above list\n",
    "min_of_a = min(a)\n",
    "min_of_a"
   ]
  },
  {
   "cell_type": "code",
   "execution_count": 79,
   "id": "56fbcf7c-97ee-4e8b-b9d2-79762a4b9704",
   "metadata": {
    "tags": []
   },
   "outputs": [
    {
     "data": {
      "text/plain": [
       "10"
      ]
     },
     "execution_count": 79,
     "metadata": {},
     "output_type": "execute_result"
    }
   ],
   "source": [
    "#Exercise 3 - Make a variable named max_of_a to hold the max number of all the numbers in the above list\n",
    "max_of_a = max(a)\n",
    "max_of_a"
   ]
  },
  {
   "cell_type": "code",
   "execution_count": 151,
   "id": "6055e76a-1918-4786-bd5b-4d2d075d59d3",
   "metadata": {
    "tags": []
   },
   "outputs": [
    {
     "data": {
      "text/plain": [
       "3.0"
      ]
     },
     "execution_count": 151,
     "metadata": {},
     "output_type": "execute_result"
    }
   ],
   "source": [
    "#Exercise 4 - Make a variable named mean_of_a to hold the average of all the numbers in the above list\n",
    "mean_of_a = (sum(a)/len(a))\n",
    "mean_of_a"
   ]
  },
  {
   "cell_type": "code",
   "execution_count": 58,
   "id": "db7a33a7-4cf1-4a1b-b2a1-3f06c0aa1a13",
   "metadata": {
    "tags": []
   },
   "outputs": [
    {
     "data": {
      "text/plain": [
       "3628800"
      ]
     },
     "execution_count": 58,
     "metadata": {},
     "output_type": "execute_result"
    }
   ],
   "source": [
    "#Exercise 5 - Make a variable named product_of_a to hold the product of multiplying all the numbers in the above list together\n",
    "product_of_a = np.prod(a)\n",
    "product_of_a"
   ]
  },
  {
   "cell_type": "code",
   "execution_count": 165,
   "id": "f18f2757-2be3-475c-95ec-49f1057353d2",
   "metadata": {
    "tags": []
   },
   "outputs": [
    {
     "data": {
      "text/plain": [
       "3628800"
      ]
     },
     "execution_count": 165,
     "metadata": {},
     "output_type": "execute_result"
    }
   ],
   "source": [
    "#Exercise 5\n",
    "product_of_a = 1\n",
    "for item in a:\n",
    "    product_of_a *= item\n",
    "\n",
    "product_of_a"
   ]
  },
  {
   "cell_type": "code",
   "execution_count": 81,
   "id": "b0a70b26-5d8d-4802-a416-8f3582ea351a",
   "metadata": {
    "tags": []
   },
   "outputs": [
    {
     "data": {
      "text/plain": [
       "array([  1,   4,   9,  16,  25,  36,  49,  64,  81, 100])"
      ]
     },
     "execution_count": 81,
     "metadata": {},
     "output_type": "execute_result"
    }
   ],
   "source": [
    "#Exercise 6 - Make a variable named squares_of_a. It should hold each number in a squared like [1, 4, 9, 16, 25...]\n",
    "squares_of_a = np.square(a)\n",
    "squares_of_a"
   ]
  },
  {
   "cell_type": "code",
   "execution_count": 166,
   "id": "2c6ae19f-386d-493c-9e3e-019a9cd2ece9",
   "metadata": {
    "tags": []
   },
   "outputs": [
    {
     "data": {
      "text/plain": [
       "[1, 4, 9, 16, 25, 36, 49, 64, 81, 100]"
      ]
     },
     "execution_count": 166,
     "metadata": {},
     "output_type": "execute_result"
    }
   ],
   "source": [
    "squares_of_a = []\n",
    "for i in a:\n",
    "    squares_of_a.append (i**2)\n",
    "squares_of_a"
   ]
  },
  {
   "cell_type": "code",
   "execution_count": 84,
   "id": "fc8e2173-a99a-4f14-849f-0771d787116e",
   "metadata": {
    "tags": []
   },
   "outputs": [
    {
     "data": {
      "text/plain": [
       "array([1, 3, 5, 7, 9])"
      ]
     },
     "execution_count": 84,
     "metadata": {},
     "output_type": "execute_result"
    }
   ],
   "source": [
    "#Exercise 7 - Make a variable named odds_in_a. It should hold only the odd numbers\n",
    "odds_in_a = a[a % 2 == 1]\n",
    "odds_in_a\n"
   ]
  },
  {
   "cell_type": "code",
   "execution_count": 85,
   "id": "65f2ad40-75d6-4aa6-b090-59f853f9e77d",
   "metadata": {
    "tags": []
   },
   "outputs": [
    {
     "data": {
      "text/plain": [
       "array([ 2,  4,  6,  8, 10])"
      ]
     },
     "execution_count": 85,
     "metadata": {},
     "output_type": "execute_result"
    }
   ],
   "source": [
    "#Exercise 8 - Make a variable named evens_in_a. It should hold only the evens.\n",
    "evens_in_a = a[a % 2 == 0]\n",
    "evens_in_a"
   ]
  },
  {
   "cell_type": "code",
   "execution_count": 167,
   "id": "71c65ccb-a86f-4f32-b760-b5baee3a5b02",
   "metadata": {
    "tags": []
   },
   "outputs": [
    {
     "data": {
      "text/plain": [
       "[2, 4, 6, 8, 10]"
      ]
     },
     "execution_count": 167,
     "metadata": {},
     "output_type": "execute_result"
    }
   ],
   "source": [
    "evens_in_a = [num for num in a if num % 2 ==0]\n",
    "evens_in_a"
   ]
  },
  {
   "cell_type": "code",
   "execution_count": 169,
   "id": "1c8ad892-35ea-42f6-ae59-62398b87576e",
   "metadata": {
    "tags": []
   },
   "outputs": [
    {
     "data": {
      "text/plain": [
       "[2, 4, 6, 8, 10]"
      ]
     },
     "execution_count": 169,
     "metadata": {},
     "output_type": "execute_result"
    }
   ],
   "source": [
    "evens_in_a = []\n",
    "for num in a:\n",
    "    if num % 2 == 0:\n",
    "        evens_in_a.append(num)\n",
    "\n",
    "evens_in_a"
   ]
  },
  {
   "cell_type": "markdown",
   "id": "cde10400-9281-47ef-b87f-e6da92c6845d",
   "metadata": {},
   "source": [
    "What about life in two dimensions? A list of lists is matrix, a table, a spreadsheet, a chessboard..."
   ]
  },
  {
   "cell_type": "markdown",
   "id": "58c4b930-44e7-4627-b516-4179b2ec8505",
   "metadata": {
    "tags": []
   },
   "source": [
    "### Setup 2: \n",
    "Consider what it would take to find the sum, min, max, average, sum, product, and list of \n",
    "squares for this list of two lists."
   ]
  },
  {
   "cell_type": "code",
   "execution_count": 170,
   "id": "288301de-dee4-4154-b63b-1ec1840c1781",
   "metadata": {
    "tags": []
   },
   "outputs": [],
   "source": [
    "b = [\n",
    "    [3, 4, 5],\n",
    "    [6, 7, 8]\n",
    "]\n",
    "\n",
    "b = np.array(b)"
   ]
  },
  {
   "cell_type": "code",
   "execution_count": 96,
   "id": "2df271e4-027f-4622-bfaf-f5f92756bc3d",
   "metadata": {
    "tags": []
   },
   "outputs": [
    {
     "data": {
      "text/plain": [
       "33"
      ]
     },
     "execution_count": 96,
     "metadata": {},
     "output_type": "execute_result"
    }
   ],
   "source": [
    "#Exercise 1 - refactor the following to use numpy. Use sum_of_b as the variable.\n",
    "#**Hint, you'll first need to make sure that the \"b\" variable is a numpy array**\n",
    "sum_of_b = 0\n",
    "for row in b:\n",
    "    sum_of_b += sum(row)\n",
    "sum_of_b"
   ]
  },
  {
   "cell_type": "code",
   "execution_count": 184,
   "id": "ee679c6b-9630-43e4-a36d-7bcda034952a",
   "metadata": {
    "tags": []
   },
   "outputs": [
    {
     "data": {
      "text/plain": [
       "33"
      ]
     },
     "execution_count": 184,
     "metadata": {},
     "output_type": "execute_result"
    }
   ],
   "source": [
    "b.sum()"
   ]
  },
  {
   "cell_type": "code",
   "execution_count": 95,
   "id": "896b67af-48a3-468b-bbef-910779faac27",
   "metadata": {
    "tags": []
   },
   "outputs": [
    {
     "data": {
      "text/plain": [
       "3"
      ]
     },
     "execution_count": 95,
     "metadata": {},
     "output_type": "execute_result"
    }
   ],
   "source": [
    "#Exercise 2 - refactor the following to use numpy. \n",
    "min_of_b = min(b[0]) if min(b[0]) <= min(b[1]) else min(b[1])  \n",
    "min_of_b"
   ]
  },
  {
   "cell_type": "code",
   "execution_count": 183,
   "id": "421db2c7-8831-41d8-ace3-4aad4e7794d2",
   "metadata": {
    "tags": []
   },
   "outputs": [
    {
     "data": {
      "text/plain": [
       "3"
      ]
     },
     "execution_count": 183,
     "metadata": {},
     "output_type": "execute_result"
    }
   ],
   "source": [
    "b.min()"
   ]
  },
  {
   "cell_type": "code",
   "execution_count": 94,
   "id": "3795e62c-df1e-4df4-90c2-77d0a3a5a479",
   "metadata": {
    "tags": []
   },
   "outputs": [
    {
     "data": {
      "text/plain": [
       "8"
      ]
     },
     "execution_count": 94,
     "metadata": {},
     "output_type": "execute_result"
    }
   ],
   "source": [
    "#Exercise 3 - refactor the following maximum calculation to find the answer with numpy.\n",
    "max_of_b = max(b[0]) if max(b[0]) >= max(b[1]) else max(b[1])\n",
    "max_of_b"
   ]
  },
  {
   "cell_type": "code",
   "execution_count": 182,
   "id": "a750da40-f34b-4167-ae98-d04e73046d23",
   "metadata": {
    "tags": []
   },
   "outputs": [
    {
     "data": {
      "text/plain": [
       "8"
      ]
     },
     "execution_count": 182,
     "metadata": {},
     "output_type": "execute_result"
    }
   ],
   "source": [
    "b.max()"
   ]
  },
  {
   "cell_type": "code",
   "execution_count": 97,
   "id": "ef6ab792-a866-4903-9beb-14663a652bc8",
   "metadata": {
    "tags": []
   },
   "outputs": [
    {
     "data": {
      "text/plain": [
       "5.5"
      ]
     },
     "execution_count": 97,
     "metadata": {},
     "output_type": "execute_result"
    }
   ],
   "source": [
    "#Exercise 4 - refactor the following using numpy to find the mean of b\n",
    "mean_of_b = (sum(b[0]) + sum(b[1])) / (len(b[0]) + len(b[1]))\n",
    "mean_of_b"
   ]
  },
  {
   "cell_type": "code",
   "execution_count": 181,
   "id": "4e8e13d2-fd07-4134-bf79-79682eb41e0b",
   "metadata": {
    "tags": []
   },
   "outputs": [
    {
     "data": {
      "text/plain": [
       "5.5"
      ]
     },
     "execution_count": 181,
     "metadata": {},
     "output_type": "execute_result"
    }
   ],
   "source": [
    "b.mean()"
   ]
  },
  {
   "cell_type": "code",
   "execution_count": 98,
   "id": "879a7ba2-5af8-4776-ac64-8d25e0cb947b",
   "metadata": {
    "tags": []
   },
   "outputs": [
    {
     "data": {
      "text/plain": [
       "20160"
      ]
     },
     "execution_count": 98,
     "metadata": {},
     "output_type": "execute_result"
    }
   ],
   "source": [
    "#Exercise 5 - refactor the following to use numpy for calculating the product of all numbers multiplied together.\n",
    "product_of_b = 1\n",
    "for row in b:\n",
    "    for number in row:\n",
    "        product_of_b *= number\n",
    "product_of_b"
   ]
  },
  {
   "cell_type": "code",
   "execution_count": 180,
   "id": "93a7f743-c0dd-4678-a74e-3a01966bb706",
   "metadata": {
    "tags": []
   },
   "outputs": [
    {
     "data": {
      "text/plain": [
       "20160"
      ]
     },
     "execution_count": 180,
     "metadata": {},
     "output_type": "execute_result"
    }
   ],
   "source": [
    "b.prod()"
   ]
  },
  {
   "cell_type": "code",
   "execution_count": 179,
   "id": "66040f27-893a-48be-adb7-004b352bc999",
   "metadata": {
    "tags": []
   },
   "outputs": [
    {
     "data": {
      "text/plain": [
       "20160"
      ]
     },
     "execution_count": 179,
     "metadata": {},
     "output_type": "execute_result"
    }
   ],
   "source": [
    "np.prod(b)"
   ]
  },
  {
   "cell_type": "code",
   "execution_count": 103,
   "id": "f36e02e3-21df-465d-8236-a1396608fb25",
   "metadata": {
    "tags": []
   },
   "outputs": [],
   "source": [
    "#Exercise 6 - refactor the following to use numpy to find the list of square\n",
    "squares_of_b = []\n",
    "for row in b:\n",
    "    for number in row:\n",
    "        squares_of_b.append(number**2)"
   ]
  },
  {
   "cell_type": "code",
   "execution_count": 104,
   "id": "d2499410-c5b7-4e04-8a45-82a0a0d13f99",
   "metadata": {
    "tags": []
   },
   "outputs": [
    {
     "data": {
      "text/plain": [
       "[9, 16, 25, 36, 49, 64]"
      ]
     },
     "execution_count": 104,
     "metadata": {},
     "output_type": "execute_result"
    }
   ],
   "source": [
    "squares_of_b"
   ]
  },
  {
   "cell_type": "code",
   "execution_count": 186,
   "id": "bf2951e2-b594-4281-80c2-6ab3d88259a3",
   "metadata": {
    "tags": []
   },
   "outputs": [
    {
     "data": {
      "text/plain": [
       "array([[ 9],\n",
       "       [16],\n",
       "       [25],\n",
       "       [36],\n",
       "       [49],\n",
       "       [64]])"
      ]
     },
     "execution_count": 186,
     "metadata": {},
     "output_type": "execute_result"
    }
   ],
   "source": [
    "b ** 2"
   ]
  },
  {
   "cell_type": "code",
   "execution_count": 105,
   "id": "268c6e98-0c91-4aca-8ec3-0eb5cb6c484e",
   "metadata": {
    "tags": []
   },
   "outputs": [
    {
     "data": {
      "text/plain": [
       "[3, 5, 7]"
      ]
     },
     "execution_count": 105,
     "metadata": {},
     "output_type": "execute_result"
    }
   ],
   "source": [
    "# Exercise 7 - refactor using numpy to determine the odds_in_b\n",
    "odds_in_b = []\n",
    "for row in b:\n",
    "    for number in row:\n",
    "        if(number % 2 != 0):\n",
    "            odds_in_b.append(number)\n",
    "odds_in_b"
   ]
  },
  {
   "cell_type": "code",
   "execution_count": 188,
   "id": "3789def0-c90d-4c29-9e36-83ed8aba39a5",
   "metadata": {
    "tags": []
   },
   "outputs": [
    {
     "data": {
      "text/plain": [
       "array([4, 6, 8])"
      ]
     },
     "execution_count": 188,
     "metadata": {},
     "output_type": "execute_result"
    }
   ],
   "source": [
    "b[b % 2 == 0]"
   ]
  },
  {
   "cell_type": "code",
   "execution_count": 107,
   "id": "34051b77-825d-40d6-b521-22355f8da597",
   "metadata": {
    "tags": []
   },
   "outputs": [
    {
     "data": {
      "text/plain": [
       "[4, 6, 8]"
      ]
     },
     "execution_count": 107,
     "metadata": {},
     "output_type": "execute_result"
    }
   ],
   "source": [
    "# Exercise 8 - refactor the following to use numpy to filter only the even numbers\n",
    "evens_in_b = []\n",
    "for row in b:\n",
    "    for number in row:\n",
    "        if(number % 2 == 0):\n",
    "            evens_in_b.append(number)\n",
    "evens_in_b"
   ]
  },
  {
   "cell_type": "code",
   "execution_count": 189,
   "id": "a9ad2f37-ee8c-4039-b9b0-619d1469a8f3",
   "metadata": {
    "tags": []
   },
   "outputs": [
    {
     "data": {
      "text/plain": [
       "array([4, 6, 8])"
      ]
     },
     "execution_count": 189,
     "metadata": {},
     "output_type": "execute_result"
    }
   ],
   "source": [
    "b[b % 2 == 0]"
   ]
  },
  {
   "cell_type": "code",
   "execution_count": 108,
   "id": "74c25355-58f8-421c-87b4-79dd0116042e",
   "metadata": {
    "tags": []
   },
   "outputs": [
    {
     "data": {
      "text/plain": [
       "(2, 3)"
      ]
     },
     "execution_count": 108,
     "metadata": {},
     "output_type": "execute_result"
    }
   ],
   "source": [
    "# Exercise 9 - print out the shape of the array b.\n",
    "np.shape(b)"
   ]
  },
  {
   "cell_type": "code",
   "execution_count": 191,
   "id": "ed1ba422-2825-490d-835a-a349af032ce4",
   "metadata": {
    "tags": []
   },
   "outputs": [
    {
     "data": {
      "text/plain": [
       "(6, 1)"
      ]
     },
     "execution_count": 191,
     "metadata": {},
     "output_type": "execute_result"
    }
   ],
   "source": [
    "b.shape"
   ]
  },
  {
   "cell_type": "code",
   "execution_count": 109,
   "id": "c6d0117b-c091-44e0-bc06-c99013bc00ca",
   "metadata": {
    "tags": []
   },
   "outputs": [
    {
     "data": {
      "text/plain": [
       "array([[3, 6],\n",
       "       [4, 7],\n",
       "       [5, 8]])"
      ]
     },
     "execution_count": 109,
     "metadata": {},
     "output_type": "execute_result"
    }
   ],
   "source": [
    "# Exercise 10 - transpose the array b.\n",
    "np.transpose(b)"
   ]
  },
  {
   "cell_type": "code",
   "execution_count": 193,
   "id": "a59037b0-c4b5-4710-a6f5-6c248bb80f26",
   "metadata": {
    "tags": []
   },
   "outputs": [
    {
     "data": {
      "text/plain": [
       "array([[3, 4, 5, 6, 7, 8]])"
      ]
     },
     "execution_count": 193,
     "metadata": {},
     "output_type": "execute_result"
    }
   ],
   "source": [
    "b.T"
   ]
  },
  {
   "cell_type": "code",
   "execution_count": 194,
   "id": "5ff8720b-2b60-4014-bc66-d19e96f2cbbe",
   "metadata": {
    "tags": []
   },
   "outputs": [
    {
     "data": {
      "text/plain": [
       "array([[3, 4, 5, 6, 7, 8]])"
      ]
     },
     "execution_count": 194,
     "metadata": {},
     "output_type": "execute_result"
    }
   ],
   "source": [
    "b.transpose()"
   ]
  },
  {
   "cell_type": "code",
   "execution_count": 204,
   "id": "d5d55ca0-60d2-416c-a342-028b0265e2df",
   "metadata": {
    "tags": []
   },
   "outputs": [
    {
     "data": {
      "text/plain": [
       "array([3, 4, 5, 6, 7, 8])"
      ]
     },
     "execution_count": 204,
     "metadata": {},
     "output_type": "execute_result"
    }
   ],
   "source": [
    "# Exercise 11 - reshape the array b to be a single list of 6 numbers. (1 x 6)\n",
    "# numpy.reshpae(a, newshape, order = 'C')\n",
    "np.reshape(b,(6,))"
   ]
  },
  {
   "cell_type": "code",
   "execution_count": 198,
   "id": "8442e71d-3f74-4e1c-afe1-8a98da490599",
   "metadata": {
    "tags": []
   },
   "outputs": [
    {
     "data": {
      "text/plain": [
       "array([3, 4, 5, 6, 7, 8])"
      ]
     },
     "execution_count": 198,
     "metadata": {},
     "output_type": "execute_result"
    }
   ],
   "source": [
    "#this creates an array with 0 columns\n",
    "b.reshape(6)"
   ]
  },
  {
   "cell_type": "code",
   "execution_count": 208,
   "id": "b1d7e1cb-4407-4140-8419-0c90e4c3f319",
   "metadata": {
    "tags": []
   },
   "outputs": [
    {
     "data": {
      "text/plain": [
       "array([[3],\n",
       "       [4],\n",
       "       [5],\n",
       "       [6],\n",
       "       [7],\n",
       "       [8]])"
      ]
     },
     "execution_count": 208,
     "metadata": {},
     "output_type": "execute_result"
    }
   ],
   "source": [
    "#Exercise 12 - reshape the array b to be a list of 6 lists, each containing only 1 number (6 x 1)\n",
    "(b).reshape(6,1)"
   ]
  },
  {
   "cell_type": "code",
   "execution_count": 207,
   "id": "8f1e6884-57c8-46ed-a5a6-9e8861926b3d",
   "metadata": {
    "tags": []
   },
   "outputs": [
    {
     "data": {
      "text/plain": [
       "array([[3],\n",
       "       [4],\n",
       "       [5],\n",
       "       [6],\n",
       "       [7],\n",
       "       [8]])"
      ]
     },
     "execution_count": 207,
     "metadata": {},
     "output_type": "execute_result"
    }
   ],
   "source": [
    "#this creates an array with 1 column\n",
    "np.reshape(b,(6,1))"
   ]
  },
  {
   "cell_type": "markdown",
   "id": "13a2b50c-afa3-4c07-8096-f18240a4b78e",
   "metadata": {},
   "source": [
    "### Setup 3"
   ]
  },
  {
   "cell_type": "code",
   "execution_count": 132,
   "id": "e46fd4e1-7cda-4af2-8322-69e82619331b",
   "metadata": {
    "tags": []
   },
   "outputs": [],
   "source": [
    "# HINT, you'll first need to make sure that the \"c\" variable is a numpy array prior to using numpy array methods."
   ]
  },
  {
   "cell_type": "code",
   "execution_count": 226,
   "id": "940b2940-16fb-4d3d-ab69-d4061f66c0a7",
   "metadata": {
    "tags": []
   },
   "outputs": [],
   "source": [
    "c = [\n",
    "    [1, 2, 3],\n",
    "    [4, 5, 6],\n",
    "    [7, 8, 9]\n",
    "]\n",
    "\n",
    "c = np.array(c)"
   ]
  },
  {
   "cell_type": "code",
   "execution_count": 212,
   "id": "72ed963f-98d3-4a9f-a0ec-4b159ed85f5a",
   "metadata": {
    "tags": []
   },
   "outputs": [
    {
     "data": {
      "text/plain": [
       "(1, 9, 45, 362880)"
      ]
     },
     "execution_count": 212,
     "metadata": {},
     "output_type": "execute_result"
    }
   ],
   "source": [
    "# Exercise 1 - Find the min, max, sum, and product of c.\n",
    "c.min(), c.max(), c.sum(), c.prod()"
   ]
  },
  {
   "cell_type": "code",
   "execution_count": 213,
   "id": "8b4d2668-a44e-4d9c-8757-7548469c2fe0",
   "metadata": {
    "tags": []
   },
   "outputs": [
    {
     "data": {
      "text/plain": [
       "2.581988897471611"
      ]
     },
     "execution_count": 213,
     "metadata": {},
     "output_type": "execute_result"
    }
   ],
   "source": [
    "# Exercise 2 - Determine the standard deviation of c.\n",
    "c.std()"
   ]
  },
  {
   "cell_type": "code",
   "execution_count": 218,
   "id": "26bc96bf-5df5-4b18-ba3d-4c5125a8ed02",
   "metadata": {
    "tags": []
   },
   "outputs": [
    {
     "data": {
      "text/plain": [
       "39.191835884530846"
      ]
     },
     "execution_count": 218,
     "metadata": {},
     "output_type": "execute_result"
    }
   ],
   "source": [
    "# Exercise 3 - Determine the variance of c.\n",
    "c.std()"
   ]
  },
  {
   "cell_type": "code",
   "execution_count": 214,
   "id": "9398518c-aaf8-4b46-aac3-ee7c993e4f4c",
   "metadata": {
    "tags": []
   },
   "outputs": [
    {
     "data": {
      "text/plain": [
       "(3, 3)"
      ]
     },
     "execution_count": 214,
     "metadata": {},
     "output_type": "execute_result"
    }
   ],
   "source": [
    "# Exercise 4 - Print out the shape of the array c\n",
    "c.shape"
   ]
  },
  {
   "cell_type": "code",
   "execution_count": 215,
   "id": "93806f2b-c5e0-455f-ac8f-5e546c8af510",
   "metadata": {
    "tags": []
   },
   "outputs": [
    {
     "data": {
      "text/plain": [
       "array([[1, 4, 7],\n",
       "       [2, 5, 8],\n",
       "       [3, 6, 9]])"
      ]
     },
     "execution_count": 215,
     "metadata": {},
     "output_type": "execute_result"
    }
   ],
   "source": [
    "# Exercise 5 - Transpose c and print out transposed result.\n",
    "c.T"
   ]
  },
  {
   "cell_type": "code",
   "execution_count": 227,
   "id": "ecb89863-ee3b-437d-9e3c-40146489571c",
   "metadata": {
    "tags": []
   },
   "outputs": [
    {
     "data": {
      "text/plain": [
       "array([[ 30,  36,  42],\n",
       "       [ 66,  81,  96],\n",
       "       [102, 126, 150]])"
      ]
     },
     "execution_count": 227,
     "metadata": {},
     "output_type": "execute_result"
    }
   ],
   "source": [
    "# Exercise 6 - Get the dot product of the array c with c. \n",
    "np.dot(c,c)"
   ]
  },
  {
   "cell_type": "code",
   "execution_count": 229,
   "id": "d23e450a-a29a-4c60-84e9-036ea93c5af9",
   "metadata": {
    "tags": []
   },
   "outputs": [
    {
     "data": {
      "text/plain": [
       "261"
      ]
     },
     "execution_count": 229,
     "metadata": {},
     "output_type": "execute_result"
    }
   ],
   "source": [
    "# Exercise 7 - Write the code necessary to sum up the result of c times c transposed. Answer should be 261\n",
    "(c * c.T).sum()"
   ]
  },
  {
   "cell_type": "code",
   "execution_count": 230,
   "id": "6a1a6004-3682-4547-a5fa-07ae020b7a3f",
   "metadata": {
    "tags": []
   },
   "outputs": [
    {
     "data": {
      "text/plain": [
       "131681894400"
      ]
     },
     "execution_count": 230,
     "metadata": {},
     "output_type": "execute_result"
    }
   ],
   "source": [
    "# Exercise 8 - Write the code necessary to determine the product of c times c transposed. Answer should be 131681894400.\n",
    "np.prod(c * c.T)"
   ]
  },
  {
   "cell_type": "markdown",
   "id": "68827219-a461-4a10-bd67-921c216ddeaf",
   "metadata": {},
   "source": [
    "### Setup 4"
   ]
  },
  {
   "cell_type": "code",
   "execution_count": 231,
   "id": "34d5f645-5734-4e7f-aa05-6bcfb14d6d7f",
   "metadata": {
    "tags": []
   },
   "outputs": [],
   "source": [
    "d = [\n",
    "    [90, 30, 45, 0, 120, 180],\n",
    "    [45, -90, -30, 270, 90, 0],\n",
    "    [60, 45, -45, 90, -45, 180]\n",
    "]\n",
    "d = np.array(d)"
   ]
  },
  {
   "cell_type": "code",
   "execution_count": 144,
   "id": "f521c25e-7a80-4040-81f2-1ff00dfb415a",
   "metadata": {
    "tags": []
   },
   "outputs": [],
   "source": [
    "# Exercise 1 - Find the sine of all the numbers in d"
   ]
  },
  {
   "cell_type": "code",
   "execution_count": 233,
   "id": "ddfaf86c-3077-4ee6-ab51-fa672e528402",
   "metadata": {
    "tags": []
   },
   "outputs": [
    {
     "data": {
      "text/plain": [
       "array([[ 0.89399666, -0.98803162,  0.85090352,  0.        ,  0.58061118,\n",
       "        -0.80115264],\n",
       "       [ 0.85090352, -0.89399666,  0.98803162, -0.17604595,  0.89399666,\n",
       "         0.        ],\n",
       "       [-0.30481062,  0.85090352, -0.85090352,  0.89399666, -0.85090352,\n",
       "        -0.80115264]])"
      ]
     },
     "execution_count": 233,
     "metadata": {},
     "output_type": "execute_result"
    }
   ],
   "source": [
    "np.sin(d)"
   ]
  },
  {
   "cell_type": "code",
   "execution_count": 145,
   "id": "9493db28-df6f-472b-94d1-205a77d71e43",
   "metadata": {
    "tags": []
   },
   "outputs": [],
   "source": [
    "# Exercise 2 - Find the cosine of all the numbers in d"
   ]
  },
  {
   "cell_type": "code",
   "execution_count": 234,
   "id": "f383b7ef-23dd-432a-bfa2-35314497086d",
   "metadata": {
    "tags": []
   },
   "outputs": [
    {
     "data": {
      "text/plain": [
       "array([[-0.44807362,  0.15425145,  0.52532199,  1.        ,  0.81418097,\n",
       "        -0.59846007],\n",
       "       [ 0.52532199, -0.44807362,  0.15425145,  0.98438195, -0.44807362,\n",
       "         1.        ],\n",
       "       [-0.95241298,  0.52532199,  0.52532199, -0.44807362,  0.52532199,\n",
       "        -0.59846007]])"
      ]
     },
     "execution_count": 234,
     "metadata": {},
     "output_type": "execute_result"
    }
   ],
   "source": [
    "np.cos(d)"
   ]
  },
  {
   "cell_type": "code",
   "execution_count": 146,
   "id": "130bca32-adef-4463-8c79-a655a1363919",
   "metadata": {
    "tags": []
   },
   "outputs": [],
   "source": [
    "# Exercise 3 - Find the tangent of all the numbers in d"
   ]
  },
  {
   "cell_type": "code",
   "execution_count": 235,
   "id": "ec29b420-d12d-4ac9-b791-0342cdbfb3f1",
   "metadata": {
    "tags": []
   },
   "outputs": [
    {
     "data": {
      "text/plain": [
       "array([[-1.99520041, -6.4053312 ,  1.61977519,  0.        ,  0.71312301,\n",
       "         1.33869021],\n",
       "       [ 1.61977519,  1.99520041,  6.4053312 , -0.17883906, -1.99520041,\n",
       "         0.        ],\n",
       "       [ 0.32004039,  1.61977519, -1.61977519, -1.99520041, -1.61977519,\n",
       "         1.33869021]])"
      ]
     },
     "execution_count": 235,
     "metadata": {},
     "output_type": "execute_result"
    }
   ],
   "source": [
    "np.tan(d)"
   ]
  },
  {
   "cell_type": "code",
   "execution_count": 147,
   "id": "56c87f5e-e12d-4bea-b763-2651481c2188",
   "metadata": {
    "tags": []
   },
   "outputs": [],
   "source": [
    "# Exercise 4 - Find all the negative numbers in d"
   ]
  },
  {
   "cell_type": "code",
   "execution_count": 238,
   "id": "b2abd230-9c72-479d-8287-de6c32e3cd58",
   "metadata": {
    "tags": []
   },
   "outputs": [
    {
     "data": {
      "text/plain": [
       "array([-90, -30, -45, -45])"
      ]
     },
     "execution_count": 238,
     "metadata": {},
     "output_type": "execute_result"
    }
   ],
   "source": [
    "d[d < 0]"
   ]
  },
  {
   "cell_type": "code",
   "execution_count": 148,
   "id": "d1b99250-124f-43c4-a2e3-1248c71e7c47",
   "metadata": {
    "tags": []
   },
   "outputs": [],
   "source": [
    "# Exercise 5 - Find all the positive numbers in d"
   ]
  },
  {
   "cell_type": "code",
   "execution_count": 239,
   "id": "bc37b416-fb4e-459b-8e07-db5218a0b97c",
   "metadata": {
    "tags": []
   },
   "outputs": [
    {
     "data": {
      "text/plain": [
       "array([ 90,  30,  45, 120, 180,  45, 270,  90,  60,  45,  90, 180])"
      ]
     },
     "execution_count": 239,
     "metadata": {},
     "output_type": "execute_result"
    }
   ],
   "source": [
    "d[d > 0]"
   ]
  },
  {
   "cell_type": "code",
   "execution_count": null,
   "id": "4187589a-b505-45c2-8026-7b886e0dc8ae",
   "metadata": {},
   "outputs": [],
   "source": [
    "# Exercise 6 - Return an array of only the unique numbers in d."
   ]
  },
  {
   "cell_type": "code",
   "execution_count": 240,
   "id": "5450a87c-85b7-4fd4-b1d1-6514aba777b3",
   "metadata": {
    "tags": []
   },
   "outputs": [
    {
     "data": {
      "text/plain": [
       "array([-90, -45, -30,   0,  30,  45,  60,  90, 120, 180, 270])"
      ]
     },
     "execution_count": 240,
     "metadata": {},
     "output_type": "execute_result"
    }
   ],
   "source": [
    "np.unique(d)"
   ]
  },
  {
   "cell_type": "code",
   "execution_count": 241,
   "id": "5436f141-4785-422a-8ab5-d400e9f8ff5c",
   "metadata": {
    "tags": []
   },
   "outputs": [
    {
     "data": {
      "text/plain": [
       "11"
      ]
     },
     "execution_count": 241,
     "metadata": {},
     "output_type": "execute_result"
    }
   ],
   "source": [
    "# Exercise 7 - Determine how many unique numbers there are in d.\n",
    "len(np.unique(d))"
   ]
  },
  {
   "cell_type": "code",
   "execution_count": 153,
   "id": "a2773a1b-0c93-4d8c-af70-5c5fd241f59c",
   "metadata": {
    "tags": []
   },
   "outputs": [],
   "source": [
    "# Exercise 8 - Print out the shape of d."
   ]
  },
  {
   "cell_type": "code",
   "execution_count": 242,
   "id": "fd863adf-96a4-499d-9d7b-d0d136b79b70",
   "metadata": {
    "tags": []
   },
   "outputs": [
    {
     "data": {
      "text/plain": [
       "(3, 6)"
      ]
     },
     "execution_count": 242,
     "metadata": {},
     "output_type": "execute_result"
    }
   ],
   "source": [
    "d.shape"
   ]
  },
  {
   "cell_type": "code",
   "execution_count": 243,
   "id": "ba126ed8-afa9-430e-92e8-7ecd7acc952a",
   "metadata": {
    "tags": []
   },
   "outputs": [
    {
     "data": {
      "text/plain": [
       "array([[ 90,  45,  60],\n",
       "       [ 30, -90,  45],\n",
       "       [ 45, -30, -45],\n",
       "       [  0, 270,  90],\n",
       "       [120,  90, -45],\n",
       "       [180,   0, 180]])"
      ]
     },
     "execution_count": 243,
     "metadata": {},
     "output_type": "execute_result"
    }
   ],
   "source": [
    "# Exercise 9 - Transpose and then print out the shape of d.\n",
    "d.T"
   ]
  },
  {
   "cell_type": "code",
   "execution_count": 245,
   "id": "25479ade-8c80-49bf-abc9-9180ca1960eb",
   "metadata": {
    "tags": []
   },
   "outputs": [
    {
     "data": {
      "text/plain": [
       "array([[ 90,  30],\n",
       "       [ 45,   0],\n",
       "       [120, 180],\n",
       "       [ 45, -90],\n",
       "       [-30, 270],\n",
       "       [ 90,   0],\n",
       "       [ 60,  45],\n",
       "       [-45,  90],\n",
       "       [-45, 180]])"
      ]
     },
     "execution_count": 245,
     "metadata": {},
     "output_type": "execute_result"
    }
   ],
   "source": [
    "# Exercise 10 - Reshape d into an array of 9 x 2\n",
    "d.reshape(9,2)"
   ]
  }
 ],
 "metadata": {
  "kernelspec": {
   "display_name": "Python 3 (ipykernel)",
   "language": "python",
   "name": "python3"
  },
  "language_info": {
   "codemirror_mode": {
    "name": "ipython",
    "version": 3
   },
   "file_extension": ".py",
   "mimetype": "text/x-python",
   "name": "python",
   "nbconvert_exporter": "python",
   "pygments_lexer": "ipython3",
   "version": "3.11.4"
  }
 },
 "nbformat": 4,
 "nbformat_minor": 5
}
