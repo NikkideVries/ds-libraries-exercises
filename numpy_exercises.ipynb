{
 "cells": [
  {
   "cell_type": "markdown",
   "id": "c2f22f1b-c314-4f7c-b257-d6dabe3626b7",
   "metadata": {},
   "source": [
    "##### Numpy Exercises\n",
    "1. How many negative numbers are there?\n",
    "2. How many positive numbers are there?\n",
    "3. How many even positive numbers are there?\n",
    "4. If you were to add 3 to each data point, how many positive numbers would there be?\n",
    "5. If you squared each number, what would the new mean and standard deviation be?\n",
    "6. A common statistical operation on a dataset is centering. This means to adjust the data such that the mean of the data is 0. This is done by subtracting the mean from each data point. Center the data set. See this link for more on centering.\n",
    "7. Calculate the z-score for each data point. Recall that the z-score is given by:\n",
    "\n",
    "        z = (x-μ) / σ\n",
    "        or \n",
    "        z = (observed value - mean of the sample) /\n",
    "            standard deviation of the samlpe\n",
    "\n",
    "8. Copy the setup and exercise directions from More Numpy Practice into your numpy_exercises.py and add your solutions."
   ]
  },
  {
   "cell_type": "code",
   "execution_count": 19,
   "id": "1cd52e77-6b07-4685-a431-85992187cdf2",
   "metadata": {
    "tags": []
   },
   "outputs": [
    {
     "name": "stdout",
     "output_type": "stream",
     "text": [
      "12\n"
     ]
    }
   ],
   "source": [
    "import numpy as np\n",
    "a = np.array([4, 10, 12, 23, -2, -1, 0, 0, 0, -6, 3, -7])\n",
    "print(len(a))"
   ]
  },
  {
   "cell_type": "markdown",
   "id": "04837d14-64eb-4078-8d27-16dee5717650",
   "metadata": {},
   "source": [
    "Question 1: How many negative numbers are there?"
   ]
  },
  {
   "cell_type": "code",
   "execution_count": 14,
   "id": "a94c6e1a-35f9-49a2-8cb5-1476cd663960",
   "metadata": {
    "tags": []
   },
   "outputs": [
    {
     "data": {
      "text/plain": [
       "array([False, False, False, False,  True,  True, False, False, False,\n",
       "        True, False,  True])"
      ]
     },
     "execution_count": 14,
     "metadata": {},
     "output_type": "execute_result"
    }
   ],
   "source": [
    "a < 0"
   ]
  },
  {
   "cell_type": "code",
   "execution_count": 13,
   "id": "719e3c03-7618-47d2-a41a-ef78dfd30e6d",
   "metadata": {
    "tags": []
   },
   "outputs": [
    {
     "name": "stdout",
     "output_type": "stream",
     "text": [
      "4\n"
     ]
    }
   ],
   "source": [
    "# np.count_nonzero gives the number of True, i.e. number of elements that satisy the condition.\n",
    "print(np.count_nonzero(a < 0))"
   ]
  },
  {
   "cell_type": "markdown",
   "id": "ad2d2234-a946-499d-b9b9-e573e4cde729",
   "metadata": {},
   "source": [
    "Question 2: How many positive numbers are there?"
   ]
  },
  {
   "cell_type": "code",
   "execution_count": 15,
   "id": "c58db063-1979-4f9c-97ee-78933c815bbc",
   "metadata": {
    "tags": []
   },
   "outputs": [
    {
     "data": {
      "text/plain": [
       "array([ True,  True,  True,  True, False, False,  True,  True,  True,\n",
       "       False,  True, False])"
      ]
     },
     "execution_count": 15,
     "metadata": {},
     "output_type": "execute_result"
    }
   ],
   "source": [
    "a >= 0"
   ]
  },
  {
   "cell_type": "code",
   "execution_count": 17,
   "id": "eed6b1d7-e335-4a06-af5c-f0b6137c8373",
   "metadata": {
    "tags": []
   },
   "outputs": [
    {
     "name": "stdout",
     "output_type": "stream",
     "text": [
      "8\n"
     ]
    }
   ],
   "source": [
    "print(np.count_nonzero(a >= 0))"
   ]
  },
  {
   "cell_type": "markdown",
   "id": "30b17193-f264-4a75-ae97-fd28b999f139",
   "metadata": {},
   "source": [
    "Question 3. How many even positive numbers are there?"
   ]
  },
  {
   "cell_type": "code",
   "execution_count": 25,
   "id": "0c35f77e-3f9a-4483-8839-25041cfa238f",
   "metadata": {
    "tags": []
   },
   "outputs": [
    {
     "data": {
      "text/plain": [
       "array([ 4, 10, 12, -2,  0,  0,  0, -6])"
      ]
     },
     "execution_count": 25,
     "metadata": {},
     "output_type": "execute_result"
    }
   ],
   "source": [
    "even_numbers = a[a % 2 == 0]\n",
    "even_numbers"
   ]
  },
  {
   "cell_type": "code",
   "execution_count": 28,
   "id": "401a1ef3-161e-40d3-bc43-ac7a1ee4470a",
   "metadata": {
    "tags": []
   },
   "outputs": [
    {
     "name": "stdout",
     "output_type": "stream",
     "text": [
      "3\n"
     ]
    }
   ],
   "source": [
    "print(np.count_nonzero(even_numbers > 0))"
   ]
  },
  {
   "cell_type": "markdown",
   "id": "ab25bcb8-d03e-474a-9d16-52288def9a49",
   "metadata": {},
   "source": [
    "Question 4: If you were to add 3 to each data point, how many positive numbers would be there "
   ]
  },
  {
   "cell_type": "code",
   "execution_count": 33,
   "id": "67876642-2729-4b56-a278-7f2b3bafd112",
   "metadata": {
    "tags": []
   },
   "outputs": [
    {
     "data": {
      "text/plain": [
       "array([ 7, 13, 15, 26,  1,  2,  3,  3,  3, -3,  6, -4])"
      ]
     },
     "execution_count": 33,
     "metadata": {},
     "output_type": "execute_result"
    }
   ],
   "source": [
    "add_a = a + 3\n",
    "add_a"
   ]
  },
  {
   "cell_type": "code",
   "execution_count": 34,
   "id": "5b3ce092-a335-42af-b898-babfa76191ea",
   "metadata": {
    "tags": []
   },
   "outputs": [
    {
     "name": "stdout",
     "output_type": "stream",
     "text": [
      "10\n"
     ]
    }
   ],
   "source": [
    "print(np.count_nonzero(add_a >= 0))"
   ]
  },
  {
   "cell_type": "markdown",
   "id": "28ff2334-bdf6-4e6c-ac6d-919ac2ca1fb1",
   "metadata": {},
   "source": [
    "Question 5: If you squared each number, what would the new mean and standard deviation be?"
   ]
  },
  {
   "cell_type": "code",
   "execution_count": 41,
   "id": "9ce1489d-7cbc-44e6-b0bc-33ae3203643d",
   "metadata": {
    "tags": []
   },
   "outputs": [
    {
     "data": {
      "text/plain": [
       "array([ 16, 100, 144, 529,   4,   1,   0,   0,   0,  36,   9,  49])"
      ]
     },
     "execution_count": 41,
     "metadata": {},
     "output_type": "execute_result"
    }
   ],
   "source": [
    "square_a = a ** 2\n",
    "square_a"
   ]
  },
  {
   "cell_type": "code",
   "execution_count": 42,
   "id": "aaed1418-fae0-44e5-ba02-3ec91211218f",
   "metadata": {
    "tags": []
   },
   "outputs": [
    {
     "data": {
      "text/plain": [
       "144.0243035046516"
      ]
     },
     "execution_count": 42,
     "metadata": {},
     "output_type": "execute_result"
    }
   ],
   "source": [
    "square_a.std()"
   ]
  },
  {
   "cell_type": "markdown",
   "id": "d61ac3c0-aa6b-45c8-a783-ed8dfd257fff",
   "metadata": {},
   "source": [
    "Question 6: A common statistical operation on a dataset is centering. This means to adjust the data such that the mean of the data is 0. This is done by subtracting the mean from each data point. Center the data set. \n",
    "\n"
   ]
  },
  {
   "cell_type": "code",
   "execution_count": null,
   "id": "7c6b17dc-d408-48b0-aa04-2d179439fa53",
   "metadata": {},
   "outputs": [],
   "source": []
  }
 ],
 "metadata": {
  "kernelspec": {
   "display_name": "Python 3 (ipykernel)",
   "language": "python",
   "name": "python3"
  },
  "language_info": {
   "codemirror_mode": {
    "name": "ipython",
    "version": 3
   },
   "file_extension": ".py",
   "mimetype": "text/x-python",
   "name": "python",
   "nbconvert_exporter": "python",
   "pygments_lexer": "ipython3",
   "version": "3.11.4"
  }
 },
 "nbformat": 4,
 "nbformat_minor": 5
}
